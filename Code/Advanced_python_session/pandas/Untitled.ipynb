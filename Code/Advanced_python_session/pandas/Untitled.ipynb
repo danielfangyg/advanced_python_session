{
 "cells": [
  {
   "cell_type": "code",
   "execution_count": 4,
   "metadata": {},
   "outputs": [],
   "source": [
    "import netCDF4\n",
    "import numpy as np\n",
    "import pprint"
   ]
  },
  {
   "cell_type": "code",
   "execution_count": 2,
   "metadata": {},
   "outputs": [
    {
     "name": "stdout",
     "output_type": "stream",
     "text": [
      "<class 'netCDF4._netCDF4.Dataset'>\n",
      "root group (NETCDF4 data model, file format HDF5):\n",
      "    identifier_product_doi: 10.5067/W8QGIYNKS3JC\n",
      "    identifier_product_doi_authority: http://dx.doi.org/\n",
      "    filter_function: oco2_xco2_quality_flag_b9\n",
      "    bc_function: oco2_bias_correct_b9\n",
      "    warn_level_function: oco2_warn_levels_b8\n",
      "    Bias_Correction_land: XCO2_Bias_Corrected = (XCO2_Raw + 0.900*(dpfrac + 0.0) + 0.0290*(co2_grad_del - 15.0) + 9.00*(DWS + 0.0) - footprint_bias)/0.99540\n",
      "    Bias_Correction_oceanGL: XCO2_Bias_Corrected = (XCO2_Raw + 0.245*(dp_sco2 + 0.0) - 0.0900*((co2_grad_del<(-6.)) + 6.00) - footprint_bias)/0.99530\n",
      "    Footprint_bias_land: Assumed footprint biases in xco2 [ppm] for footprints 1-8: -0.36, -0.15, -0.16, -0.14, 0.02, 0.33, 0.13, 0.34\n",
      "    Footprint_bias_oceanGL: Assumed footprint biases in xco2 [ppm] for footprints 1-8: -0.36, -0.15, -0.16, -0.14, 0.02, 0.33, 0.13, 0.34\n",
      "    Bias_Uncertainty: Bias correction parameter uncertainties are given in the data users guide.\n",
      "    Note_regarding_bias_correction: There is some uncertainty in not only the bias correction coefficients but in the chosen parameters themselves. This release bias correction may be slightly different that of previous releases, and also somewhat different from those of previous ACOS algorithm versions.  This has to do with details of the particular retrieval algorithm version and is considered normal (though not ideal).\n",
      "    Platform: OCO-2\n",
      "    Sensor: OCO-2\n",
      "    title: ACOS L2 Lite Output\n",
      "    BuildId: B8.1.00\n",
      "    filtering state: Filtered with oco2_lite_file_prefilter_b8a\n",
      "    creation_date: Sep 2018\n",
      "    contact: Chris O'Dell: odell@atmos.colostate.edu\n",
      "    dimensions(sizes): sounding_id(63290), levels(20), bands(3), vertices(4), footprints(8), source_files(14), epoch_dimension(7)\n",
      "    variables(dimensions): uint64 sounding_id(sounding_id), int16 levels(levels), int16 bands(bands), int16 vertices(vertices), int16 footprints(footprints), int16 date(sounding_id,epoch_dimension), float32 latitude(sounding_id), float32 longitude(sounding_id), float64 time(sounding_id), float32 solar_zenith_angle(sounding_id), float32 sensor_zenith_angle(sounding_id), int8 xco2_quality_flag(sounding_id), int32 xco2_qf_bitflag(sounding_id), <class 'str'> source_files(source_files), uint8 file_index(sounding_id), float32 vertex_latitude(sounding_id,vertices), float32 vertex_longitude(sounding_id,vertices), float32 xco2(sounding_id), float32 xco2_uncertainty(sounding_id), float32 xco2_apriori(sounding_id), float32 pressure_levels(sounding_id,levels), float32 co2_profile_apriori(sounding_id,levels), float32 xco2_averaging_kernel(sounding_id,levels), float32 pressure_weight(sounding_id,levels)\n",
      "    groups: Auxiliary, Meteorology, Preprocessors, Retrieval, Sounding\n"
     ]
    }
   ],
   "source": [
    "f = netCDF4.Dataset('oco2_LtCO2_140906_B9003r_180927215925s.nc4')\n",
    "print(f) "
   ]
  },
  {
   "cell_type": "code",
   "execution_count": 6,
   "metadata": {},
   "outputs": [
    {
     "name": "stdout",
     "output_type": "stream",
     "text": [
      "dict_keys(['sounding_id', 'levels', 'bands', 'vertices', 'footprints', 'date', 'latitude', 'longitude', 'time', 'solar_zenith_angle', 'sensor_zenith_angle', 'xco2_quality_flag', 'xco2_qf_bitflag', 'source_files', 'file_index', 'vertex_latitude', 'vertex_longitude', 'xco2', 'xco2_uncertainty', 'xco2_apriori', 'pressure_levels', 'co2_profile_apriori', 'xco2_averaging_kernel', 'pressure_weight'])\n"
     ]
    }
   ],
   "source": [
    "pprint.pprint(f.variables.keys()) # get all variable names"
   ]
  },
  {
   "cell_type": "code",
   "execution_count": 9,
   "metadata": {},
   "outputs": [
    {
     "name": "stdout",
     "output_type": "stream",
     "text": [
      "[54.446228 54.465824 54.46427  ... 62.19939  62.198574 62.21781 ]\n"
     ]
    }
   ],
   "source": [
    "lat, lon = f.variables['latitude'], f.variables['longitude']\n",
    "print(lat[:])"
   ]
  },
  {
   "cell_type": "code",
   "execution_count": null,
   "metadata": {},
   "outputs": [],
   "source": []
  }
 ],
 "metadata": {
  "kernelspec": {
   "display_name": "Python 3",
   "language": "python",
   "name": "python3"
  },
  "language_info": {
   "codemirror_mode": {
    "name": "ipython",
    "version": 3
   },
   "file_extension": ".py",
   "mimetype": "text/x-python",
   "name": "python",
   "nbconvert_exporter": "python",
   "pygments_lexer": "ipython3",
   "version": "3.7.4"
  }
 },
 "nbformat": 4,
 "nbformat_minor": 4
}
