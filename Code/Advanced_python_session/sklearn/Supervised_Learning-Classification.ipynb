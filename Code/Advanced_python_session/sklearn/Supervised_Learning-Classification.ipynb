{
 "cells": [
  {
   "cell_type": "markdown",
   "metadata": {},
   "source": [
    "# Scikit-learn"
   ]
  },
  {
   "cell_type": "code",
   "execution_count": 2,
   "metadata": {
    "collapsed": true,
    "jupyter": {
     "outputs_hidden": true
    }
   },
   "outputs": [],
   "source": [
    "import csv\n",
    "import pandas as pd\n",
    "import numpy as np\n",
    "import sklearn"
   ]
  },
  {
   "cell_type": "markdown",
   "metadata": {},
   "source": [
    "### Loading the data"
   ]
  },
  {
   "cell_type": "code",
   "execution_count": 3,
   "metadata": {},
   "outputs": [
    {
     "name": "stderr",
     "output_type": "stream",
     "text": [
      "/anaconda/lib/python2.7/site-packages/IPython/core/interactiveshell.py:2821: DtypeWarning: Columns (19,55) have mixed types. Specify dtype option on import or set low_memory=False.\n",
      "  if self.run_code(code, result):\n"
     ]
    }
   ],
   "source": [
    "df = pd.DataFrame.from_csv(\"../../datasets/loan.csv\")"
   ]
  },
  {
   "cell_type": "markdown",
   "metadata": {},
   "source": [
    "### Inspecting the data"
   ]
  },
  {
   "cell_type": "code",
   "execution_count": 4,
   "metadata": {},
   "outputs": [
    {
     "data": {
      "text/html": [
       "<div>\n",
       "<style>\n",
       "    .dataframe thead tr:only-child th {\n",
       "        text-align: right;\n",
       "    }\n",
       "\n",
       "    .dataframe thead th {\n",
       "        text-align: left;\n",
       "    }\n",
       "\n",
       "    .dataframe tbody tr th {\n",
       "        vertical-align: top;\n",
       "    }\n",
       "</style>\n",
       "<table border=\"1\" class=\"dataframe\">\n",
       "  <thead>\n",
       "    <tr style=\"text-align: right;\">\n",
       "      <th></th>\n",
       "      <th>member_id</th>\n",
       "      <th>loan_amnt</th>\n",
       "      <th>funded_amnt</th>\n",
       "      <th>funded_amnt_inv</th>\n",
       "      <th>term</th>\n",
       "      <th>int_rate</th>\n",
       "      <th>installment</th>\n",
       "      <th>grade</th>\n",
       "      <th>sub_grade</th>\n",
       "      <th>emp_title</th>\n",
       "      <th>...</th>\n",
       "      <th>total_bal_il</th>\n",
       "      <th>il_util</th>\n",
       "      <th>open_rv_12m</th>\n",
       "      <th>open_rv_24m</th>\n",
       "      <th>max_bal_bc</th>\n",
       "      <th>all_util</th>\n",
       "      <th>total_rev_hi_lim</th>\n",
       "      <th>inq_fi</th>\n",
       "      <th>total_cu_tl</th>\n",
       "      <th>inq_last_12m</th>\n",
       "    </tr>\n",
       "    <tr>\n",
       "      <th>id</th>\n",
       "      <th></th>\n",
       "      <th></th>\n",
       "      <th></th>\n",
       "      <th></th>\n",
       "      <th></th>\n",
       "      <th></th>\n",
       "      <th></th>\n",
       "      <th></th>\n",
       "      <th></th>\n",
       "      <th></th>\n",
       "      <th></th>\n",
       "      <th></th>\n",
       "      <th></th>\n",
       "      <th></th>\n",
       "      <th></th>\n",
       "      <th></th>\n",
       "      <th></th>\n",
       "      <th></th>\n",
       "      <th></th>\n",
       "      <th></th>\n",
       "      <th></th>\n",
       "    </tr>\n",
       "  </thead>\n",
       "  <tbody>\n",
       "    <tr>\n",
       "      <th>1077501</th>\n",
       "      <td>1296599</td>\n",
       "      <td>5000.0</td>\n",
       "      <td>5000.0</td>\n",
       "      <td>4975.0</td>\n",
       "      <td>36 months</td>\n",
       "      <td>10.65</td>\n",
       "      <td>162.87</td>\n",
       "      <td>B</td>\n",
       "      <td>B2</td>\n",
       "      <td>NaN</td>\n",
       "      <td>...</td>\n",
       "      <td>NaN</td>\n",
       "      <td>NaN</td>\n",
       "      <td>NaN</td>\n",
       "      <td>NaN</td>\n",
       "      <td>NaN</td>\n",
       "      <td>NaN</td>\n",
       "      <td>NaN</td>\n",
       "      <td>NaN</td>\n",
       "      <td>NaN</td>\n",
       "      <td>NaN</td>\n",
       "    </tr>\n",
       "    <tr>\n",
       "      <th>1077430</th>\n",
       "      <td>1314167</td>\n",
       "      <td>2500.0</td>\n",
       "      <td>2500.0</td>\n",
       "      <td>2500.0</td>\n",
       "      <td>60 months</td>\n",
       "      <td>15.27</td>\n",
       "      <td>59.83</td>\n",
       "      <td>C</td>\n",
       "      <td>C4</td>\n",
       "      <td>Ryder</td>\n",
       "      <td>...</td>\n",
       "      <td>NaN</td>\n",
       "      <td>NaN</td>\n",
       "      <td>NaN</td>\n",
       "      <td>NaN</td>\n",
       "      <td>NaN</td>\n",
       "      <td>NaN</td>\n",
       "      <td>NaN</td>\n",
       "      <td>NaN</td>\n",
       "      <td>NaN</td>\n",
       "      <td>NaN</td>\n",
       "    </tr>\n",
       "    <tr>\n",
       "      <th>1077175</th>\n",
       "      <td>1313524</td>\n",
       "      <td>2400.0</td>\n",
       "      <td>2400.0</td>\n",
       "      <td>2400.0</td>\n",
       "      <td>36 months</td>\n",
       "      <td>15.96</td>\n",
       "      <td>84.33</td>\n",
       "      <td>C</td>\n",
       "      <td>C5</td>\n",
       "      <td>NaN</td>\n",
       "      <td>...</td>\n",
       "      <td>NaN</td>\n",
       "      <td>NaN</td>\n",
       "      <td>NaN</td>\n",
       "      <td>NaN</td>\n",
       "      <td>NaN</td>\n",
       "      <td>NaN</td>\n",
       "      <td>NaN</td>\n",
       "      <td>NaN</td>\n",
       "      <td>NaN</td>\n",
       "      <td>NaN</td>\n",
       "    </tr>\n",
       "    <tr>\n",
       "      <th>1076863</th>\n",
       "      <td>1277178</td>\n",
       "      <td>10000.0</td>\n",
       "      <td>10000.0</td>\n",
       "      <td>10000.0</td>\n",
       "      <td>36 months</td>\n",
       "      <td>13.49</td>\n",
       "      <td>339.31</td>\n",
       "      <td>C</td>\n",
       "      <td>C1</td>\n",
       "      <td>AIR RESOURCES BOARD</td>\n",
       "      <td>...</td>\n",
       "      <td>NaN</td>\n",
       "      <td>NaN</td>\n",
       "      <td>NaN</td>\n",
       "      <td>NaN</td>\n",
       "      <td>NaN</td>\n",
       "      <td>NaN</td>\n",
       "      <td>NaN</td>\n",
       "      <td>NaN</td>\n",
       "      <td>NaN</td>\n",
       "      <td>NaN</td>\n",
       "    </tr>\n",
       "    <tr>\n",
       "      <th>1075358</th>\n",
       "      <td>1311748</td>\n",
       "      <td>3000.0</td>\n",
       "      <td>3000.0</td>\n",
       "      <td>3000.0</td>\n",
       "      <td>60 months</td>\n",
       "      <td>12.69</td>\n",
       "      <td>67.79</td>\n",
       "      <td>B</td>\n",
       "      <td>B5</td>\n",
       "      <td>University Medical Group</td>\n",
       "      <td>...</td>\n",
       "      <td>NaN</td>\n",
       "      <td>NaN</td>\n",
       "      <td>NaN</td>\n",
       "      <td>NaN</td>\n",
       "      <td>NaN</td>\n",
       "      <td>NaN</td>\n",
       "      <td>NaN</td>\n",
       "      <td>NaN</td>\n",
       "      <td>NaN</td>\n",
       "      <td>NaN</td>\n",
       "    </tr>\n",
       "  </tbody>\n",
       "</table>\n",
       "<p>5 rows × 73 columns</p>\n",
       "</div>"
      ],
      "text/plain": [
       "         member_id  loan_amnt  funded_amnt  funded_amnt_inv        term  \\\n",
       "id                                                                        \n",
       "1077501    1296599     5000.0       5000.0           4975.0   36 months   \n",
       "1077430    1314167     2500.0       2500.0           2500.0   60 months   \n",
       "1077175    1313524     2400.0       2400.0           2400.0   36 months   \n",
       "1076863    1277178    10000.0      10000.0          10000.0   36 months   \n",
       "1075358    1311748     3000.0       3000.0           3000.0   60 months   \n",
       "\n",
       "         int_rate  installment grade sub_grade                 emp_title  \\\n",
       "id                                                                         \n",
       "1077501     10.65       162.87     B        B2                       NaN   \n",
       "1077430     15.27        59.83     C        C4                     Ryder   \n",
       "1077175     15.96        84.33     C        C5                       NaN   \n",
       "1076863     13.49       339.31     C        C1       AIR RESOURCES BOARD   \n",
       "1075358     12.69        67.79     B        B5  University Medical Group   \n",
       "\n",
       "            ...      total_bal_il il_util  open_rv_12m open_rv_24m max_bal_bc  \\\n",
       "id          ...                                                                 \n",
       "1077501     ...               NaN     NaN          NaN         NaN        NaN   \n",
       "1077430     ...               NaN     NaN          NaN         NaN        NaN   \n",
       "1077175     ...               NaN     NaN          NaN         NaN        NaN   \n",
       "1076863     ...               NaN     NaN          NaN         NaN        NaN   \n",
       "1075358     ...               NaN     NaN          NaN         NaN        NaN   \n",
       "\n",
       "        all_util total_rev_hi_lim inq_fi total_cu_tl inq_last_12m  \n",
       "id                                                                 \n",
       "1077501      NaN              NaN    NaN         NaN          NaN  \n",
       "1077430      NaN              NaN    NaN         NaN          NaN  \n",
       "1077175      NaN              NaN    NaN         NaN          NaN  \n",
       "1076863      NaN              NaN    NaN         NaN          NaN  \n",
       "1075358      NaN              NaN    NaN         NaN          NaN  \n",
       "\n",
       "[5 rows x 73 columns]"
      ]
     },
     "execution_count": 4,
     "metadata": {},
     "output_type": "execute_result"
    }
   ],
   "source": [
    "df.head()"
   ]
  },
  {
   "cell_type": "code",
   "execution_count": 5,
   "metadata": {},
   "outputs": [
    {
     "name": "stdout",
     "output_type": "stream",
     "text": [
      "(887379, 73)\n",
      "[dtype('int64') dtype('float64') dtype('O')]\n"
     ]
    }
   ],
   "source": [
    "print df.shape\n",
    "print df.dtypes.unique()"
   ]
  },
  {
   "cell_type": "code",
   "execution_count": 6,
   "metadata": {},
   "outputs": [
    {
     "name": "stdout",
     "output_type": "stream",
     "text": [
      "<class 'pandas.core.frame.DataFrame'>\n",
      "Int64Index: 887379 entries, 1077501 to 36271262\n",
      "Data columns (total 73 columns):\n",
      "member_id                      887379 non-null int64\n",
      "loan_amnt                      887379 non-null float64\n",
      "funded_amnt                    887379 non-null float64\n",
      "funded_amnt_inv                887379 non-null float64\n",
      "term                           887379 non-null object\n",
      "int_rate                       887379 non-null float64\n",
      "installment                    887379 non-null float64\n",
      "grade                          887379 non-null object\n",
      "sub_grade                      887379 non-null object\n",
      "emp_title                      835922 non-null object\n",
      "emp_length                     887379 non-null object\n",
      "home_ownership                 887379 non-null object\n",
      "annual_inc                     887375 non-null float64\n",
      "verification_status            887379 non-null object\n",
      "issue_d                        887379 non-null object\n",
      "loan_status                    887379 non-null object\n",
      "pymnt_plan                     887379 non-null object\n",
      "url                            887379 non-null object\n",
      "desc                           126029 non-null object\n",
      "purpose                        887379 non-null object\n",
      "title                          887228 non-null object\n",
      "zip_code                       887379 non-null object\n",
      "addr_state                     887379 non-null object\n",
      "dti                            887379 non-null float64\n",
      "delinq_2yrs                    887350 non-null float64\n",
      "earliest_cr_line               887350 non-null object\n",
      "inq_last_6mths                 887350 non-null float64\n",
      "mths_since_last_delinq         433067 non-null float64\n",
      "mths_since_last_record         137053 non-null float64\n",
      "open_acc                       887350 non-null float64\n",
      "pub_rec                        887350 non-null float64\n",
      "revol_bal                      887379 non-null float64\n",
      "revol_util                     886877 non-null float64\n",
      "total_acc                      887350 non-null float64\n",
      "initial_list_status            887379 non-null object\n",
      "out_prncp                      887379 non-null float64\n",
      "out_prncp_inv                  887379 non-null float64\n",
      "total_pymnt                    887379 non-null float64\n",
      "total_pymnt_inv                887379 non-null float64\n",
      "total_rec_prncp                887379 non-null float64\n",
      "total_rec_int                  887379 non-null float64\n",
      "total_rec_late_fee             887379 non-null float64\n",
      "recoveries                     887379 non-null float64\n",
      "collection_recovery_fee        887379 non-null float64\n",
      "last_pymnt_d                   869720 non-null object\n",
      "last_pymnt_amnt                887379 non-null float64\n",
      "next_pymnt_d                   634408 non-null object\n",
      "last_credit_pull_d             887326 non-null object\n",
      "collections_12_mths_ex_med     887234 non-null float64\n",
      "mths_since_last_major_derog    221703 non-null float64\n",
      "policy_code                    887379 non-null float64\n",
      "application_type               887379 non-null object\n",
      "annual_inc_joint               511 non-null float64\n",
      "dti_joint                      509 non-null float64\n",
      "verification_status_joint      511 non-null object\n",
      "acc_now_delinq                 887350 non-null float64\n",
      "tot_coll_amt                   817103 non-null float64\n",
      "tot_cur_bal                    817103 non-null float64\n",
      "open_acc_6m                    21372 non-null float64\n",
      "open_il_6m                     21372 non-null float64\n",
      "open_il_12m                    21372 non-null float64\n",
      "open_il_24m                    21372 non-null float64\n",
      "mths_since_rcnt_il             20810 non-null float64\n",
      "total_bal_il                   21372 non-null float64\n",
      "il_util                        18617 non-null float64\n",
      "open_rv_12m                    21372 non-null float64\n",
      "open_rv_24m                    21372 non-null float64\n",
      "max_bal_bc                     21372 non-null float64\n",
      "all_util                       21372 non-null float64\n",
      "total_rev_hi_lim               817103 non-null float64\n",
      "inq_fi                         21372 non-null float64\n",
      "total_cu_tl                    21372 non-null float64\n",
      "inq_last_12m                   21372 non-null float64\n",
      "dtypes: float64(49), int64(1), object(23)\n",
      "memory usage: 501.0+ MB\n",
      "None\n"
     ]
    }
   ],
   "source": [
    "print df.info()"
   ]
  },
  {
   "cell_type": "code",
   "execution_count": 7,
   "metadata": {
    "scrolled": true
   },
   "outputs": [
    {
     "name": "stdout",
     "output_type": "stream",
     "text": [
      "['term', 'grade', 'sub_grade', 'emp_title', 'emp_length', 'home_ownership', 'verification_status', 'issue_d', 'loan_status', 'pymnt_plan', 'url', 'desc', 'purpose', 'title', 'zip_code', 'addr_state', 'earliest_cr_line', 'initial_list_status', 'last_pymnt_d', 'next_pymnt_d', 'last_credit_pull_d', 'application_type', 'verification_status_joint'] 23\n"
     ]
    }
   ],
   "source": [
    "objects = list(df.select_dtypes(include=['object']).columns)\n",
    "print objects, len(objects)"
   ]
  },
  {
   "cell_type": "code",
   "execution_count": 8,
   "metadata": {},
   "outputs": [
    {
     "data": {
      "text/plain": [
       "<matplotlib.axes._subplots.AxesSubplot at 0x123a140d0>"
      ]
     },
     "execution_count": 8,
     "metadata": {},
     "output_type": "execute_result"
    },
    {
     "data": {
      "image/png": "[encoded data removed]",
      "text/plain": [
       "<matplotlib.figure.Figure at 0x115d15f50>"
      ]
     },
     "metadata": {},
     "output_type": "display_data"
    }
   ],
   "source": [
    "%matplotlib inline\n",
    "import matplotlib.pyplot as plt\n",
    "plt.figure()\n",
    "df[objects].count().plot.bar()"
   ]
  },
  {
   "cell_type": "code",
   "execution_count": 9,
   "metadata": {},
   "outputs": [
    {
     "data": {
      "text/plain": [
       "<matplotlib.axes._subplots.AxesSubplot at 0x123206ed0>"
      ]
     },
     "execution_count": 9,
     "metadata": {},
     "output_type": "execute_result"
    },
    {
     "data": {
      "image/png": "[encoded data removed]",
      "text/plain": [
       "<matplotlib.figure.Figure at 0x11ccb87d0>"
      ]
     },
     "metadata": {},
     "output_type": "display_data"
    },
    {
     "data": {
      "image/png": "[encoded data removed]",
      "text/plain": [
       "<matplotlib.figure.Figure at 0x11ccc3190>"
      ]
     },
     "metadata": {},
     "output_type": "display_data"
    }
   ],
   "source": [
    "plt.figure()\n",
    "df.count().plot.bar()\n",
    "bins = np.arange(0,1000000, 100000)\n",
    "hist = pd.cut(df.count(), bins).value_counts()\n",
    "hist.to_frame().plot(kind='bar')"
   ]
  },
  {
   "cell_type": "markdown",
   "metadata": {},
   "source": [
    "### Selecting attributes"
   ]
  },
  {
   "cell_type": "code",
   "execution_count": 10,
   "metadata": {},
   "outputs": [
    {
     "name": "stdout",
     "output_type": "stream",
     "text": [
      "['member_id', 'loan_amnt', 'funded_amnt', 'funded_amnt_inv', 'term', 'int_rate', 'installment', 'grade', 'sub_grade', 'emp_title', 'emp_length', 'home_ownership', 'annual_inc', 'verification_status', 'issue_d', 'loan_status', 'pymnt_plan', 'url', 'purpose', 'title', 'zip_code', 'addr_state', 'dti', 'delinq_2yrs', 'earliest_cr_line', 'inq_last_6mths', 'open_acc', 'pub_rec', 'revol_bal', 'revol_util', 'total_acc', 'initial_list_status', 'out_prncp', 'out_prncp_inv', 'total_pymnt', 'total_pymnt_inv', 'total_rec_prncp', 'total_rec_int', 'total_rec_late_fee', 'recoveries', 'collection_recovery_fee', 'last_pymnt_d', 'last_pymnt_amnt', 'last_credit_pull_d', 'collections_12_mths_ex_med', 'policy_code', 'application_type', 'acc_now_delinq', 'tot_coll_amt', 'tot_cur_bal', 'total_rev_hi_lim']\n",
      "51\n"
     ]
    }
   ],
   "source": [
    "selected = []\n",
    "n = 800000\n",
    "for col, count in zip(df.columns, df.count()):\n",
    "    if count >= n:\n",
    "        selected.append(col)\n",
    "print selected\n",
    "print len(selected)\n",
    "data = df[selected]"
   ]
  },
  {
   "cell_type": "markdown",
   "metadata": {},
   "source": [
    "### Cleaning the data"
   ]
  },
  {
   "cell_type": "code",
   "execution_count": 11,
   "metadata": {},
   "outputs": [
    {
     "name": "stdout",
     "output_type": "stream",
     "text": [
      "Number of applications: 887379\n",
      "Number of NaNs: 281002\n",
      "Number of NaNs: 0\n",
      "Number of applications: 753244\n"
     ]
    }
   ],
   "source": [
    "print \"Number of applications: %d\" % (len(data))\n",
    "print \"Number of NaNs: %d\" % (data.isnull().values.sum())\n",
    "data = data.dropna(thresh=len(selected))\n",
    "print \"Number of NaNs: %d\" % (data.isnull().values.sum())\n",
    "print \"Number of applications: %d\" % (len(data))"
   ]
  },
  {
   "cell_type": "markdown",
   "metadata": {},
   "source": [
    "### Remove columns that we cannot use"
   ]
  },
  {
   "cell_type": "code",
   "execution_count": 12,
   "metadata": {},
   "outputs": [
    {
     "name": "stdout",
     "output_type": "stream",
     "text": [
      "28\n"
     ]
    }
   ],
   "source": [
    "remove = ['member_id','int_rate', 'installment', 'grade', 'sub_grade', 'pymnt_plan',\n",
    "          'out_prncp', 'out_prncp_inv', 'total_pymnt', 'total_pymnt_inv', 'total_rec_prncp',\n",
    "          'total_rec_int', 'total_rec_late_fee', 'recoveries', 'collection_recovery_fee',\n",
    "          'last_pymnt_d', 'last_pymnt_amnt','last_credit_pull_d', 'funded_amnt',\n",
    "          'funded_amnt_inv', 'policy_code', 'issue_d', 'initial_list_status']\n",
    "data = data.drop(remove, axis=1)\n",
    "print len(data.columns)\n"
   ]
  },
  {
   "cell_type": "code",
   "execution_count": 13,
   "metadata": {},
   "outputs": [
    {
     "name": "stdout",
     "output_type": "stream",
     "text": [
      "           loan_amnt    annual_inc            dti    delinq_2yrs  \\\n",
      "count  753244.000000  7.532440e+05  753244.000000  753244.000000   \n",
      "mean    15155.321184  7.673697e+04      18.386344       0.331493   \n",
      "std      8443.945454  6.592416e+04       8.286664       0.888222   \n",
      "min      1000.000000  4.000000e+03       0.000000       0.000000   \n",
      "25%      8800.000000  4.750000e+04      12.160000       0.000000   \n",
      "50%     14000.000000  6.500000e+04      17.890000       0.000000   \n",
      "75%     20000.000000  9.100000e+04      24.250000       0.000000   \n",
      "max     35000.000000  9.500000e+06     380.530000      39.000000   \n",
      "\n",
      "       inq_last_6mths       open_acc        pub_rec     revol_bal  \\\n",
      "count   753244.000000  753244.000000  753244.000000  7.532440e+05   \n",
      "mean         0.671462      11.778274       0.200330  1.728672e+04   \n",
      "std          0.959598       5.359444       0.593357  2.270463e+04   \n",
      "min          0.000000       1.000000       0.000000  0.000000e+00   \n",
      "25%          0.000000       8.000000       0.000000  6.691000e+03   \n",
      "50%          0.000000      11.000000       0.000000  1.218000e+04   \n",
      "75%          1.000000      15.000000       0.000000  2.126500e+04   \n",
      "max          8.000000      90.000000      86.000000  2.904836e+06   \n",
      "\n",
      "          revol_util      total_acc  collections_12_mths_ex_med  \\\n",
      "count  753244.000000  753244.000000               753244.000000   \n",
      "mean       55.554581      25.598701                    0.015462   \n",
      "std        23.442353      11.853303                    0.139417   \n",
      "min         0.000000       2.000000                    0.000000   \n",
      "25%        38.400000      17.000000                    0.000000   \n",
      "50%        56.300000      24.000000                    0.000000   \n",
      "75%        73.700000      32.000000                    0.000000   \n",
      "max       892.300000     169.000000                   20.000000   \n",
      "\n",
      "       acc_now_delinq  tot_coll_amt   tot_cur_bal  total_rev_hi_lim  \n",
      "count   753244.000000  7.532440e+05  7.532440e+05      7.532440e+05  \n",
      "mean         0.005448  2.212814e+02  1.417921e+05      3.216091e+04  \n",
      "std          0.081242  1.072032e+04  1.546366e+05      3.779115e+04  \n",
      "min          0.000000  0.000000e+00  0.000000e+00      0.000000e+00  \n",
      "25%          0.000000  0.000000e+00  3.094400e+04      1.410000e+04  \n",
      "50%          0.000000  0.000000e+00  8.352750e+04      2.390000e+04  \n",
      "75%          0.000000  0.000000e+00  2.113930e+05      3.990000e+04  \n",
      "max         14.000000  9.152545e+06  8.000078e+06      9.999999e+06  \n"
     ]
    },
    {
     "data": {
      "text/plain": [
       "<matplotlib.axes._subplots.AxesSubplot at 0x11cb68d90>"
      ]
     },
     "execution_count": 13,
     "metadata": {},
     "output_type": "execute_result"
    },
    {
     "data": {
      "image/png": "[encoded data removed]",
      "text/plain": [
       "<matplotlib.figure.Figure at 0x1226c5b50>"
      ]
     },
     "metadata": {},
     "output_type": "display_data"
    }
   ],
   "source": [
    "print data.describe()\n",
    "plt.figure()\n",
    "objects = list(data.select_dtypes(include=['object']).columns)\n",
    "data[objects].count().plot.bar()"
   ]
  },
  {
   "cell_type": "markdown",
   "metadata": {},
   "source": [
    "### Selecting 13 features to use in this initial approach"
   ]
  },
  {
   "cell_type": "code",
   "execution_count": 14,
   "metadata": {
    "collapsed": true,
    "jupyter": {
     "outputs_hidden": true
    }
   },
   "outputs": [],
   "source": [
    "features = ['emp_length',                # number of years of employment\n",
    "            'home_ownership',            # home_ownership status: own, mortgage or rent\n",
    "            'dti',                       # debt to income ratio\n",
    "            'purpose',                   # the purpose of the loan\n",
    "            'term',                      # the term of the loan\n",
    "            'loan_amnt',                 # loan amount\n",
    "            'annual_inc',                # annual income           \n",
    "            'total_acc',                 # num accounts\n",
    "            'delinq_2yrs',               # num past delinquencies\n",
    "            'pub_rec',                   # num public records\n",
    "            'inq_last_6mths',            # num inquiries past 6 months\n",
    "            'collections_12_mths_ex_med',# num collections that are not medical in the last year\n",
    "            'acc_now_delinq',            # num accounts on which is now delinquent         \n",
    "           ]           "
   ]
  },
  {
   "cell_type": "markdown",
   "metadata": {},
   "source": [
    "### Finding labels"
   ]
  },
  {
   "cell_type": "code",
   "execution_count": 15,
   "metadata": {},
   "outputs": [
    {
     "data": {
      "text/plain": [
       "Current               554919\n",
       "Fully Paid            146569\n",
       "Charged Off            32193\n",
       "Late (31-120 days)     10566\n",
       "In Grace Period         5714\n",
       "Late (16-30 days)       2129\n",
       "Default                 1114\n",
       "Issued                    40\n",
       "Name: loan_status, dtype: int64"
      ]
     },
     "execution_count": 15,
     "metadata": {},
     "output_type": "execute_result"
    }
   ],
   "source": [
    "data.loan_status.value_counts()"
   ]
  },
  {
   "cell_type": "code",
   "execution_count": 16,
   "metadata": {
    "collapsed": true,
    "jupyter": {
     "outputs_hidden": true
    }
   },
   "outputs": [],
   "source": [
    "status = ['Default', 'Late (31-120 days)', 'Fully Paid', 'Charged Off']\n",
    "data = data.loc[data.loan_status.isin(status)]"
   ]
  },
  {
   "cell_type": "code",
   "execution_count": 17,
   "metadata": {},
   "outputs": [
    {
     "name": "stdout",
     "output_type": "stream",
     "text": [
      "Paid loans: 146569, risky: 43873\n",
      "Percentage of safe loans  : 76.9625397759 \n",
      "Percentage of risky loans : 23.0374602241 \n"
     ]
    }
   ],
   "source": [
    "data['label'] = data['loan_status'].apply(lambda x : +1 if x=='Fully Paid' else -1)\n",
    "default = data.loc[data['label'] == -1]\n",
    "paid = data.loc[data['label'] == 1]\n",
    "print \"Paid loans: %d, risky: %d\" % (len(paid), len(default))\n",
    "print \"Percentage of safe loans  : %s \" % (len(paid)* 100.0 / (len(default) + len(paid)))\n",
    "print \"Percentage of risky loans : %s \" % (len(default)* 100.0 / (len(default) + len(paid)))"
   ]
  },
  {
   "cell_type": "markdown",
   "metadata": {},
   "source": [
    "### Creating  datasets"
   ]
  },
  {
   "cell_type": "code",
   "execution_count": 18,
   "metadata": {
    "collapsed": true,
    "jupyter": {
     "outputs_hidden": true
    }
   },
   "outputs": [],
   "source": [
    "dataset_x = default[features].append(paid[features])\n",
    "dataset_y = default.label.append(paid.label)"
   ]
  },
  {
   "cell_type": "markdown",
   "metadata": {},
   "source": [
    "### Encoding features"
   ]
  },
  {
   "cell_type": "code",
   "execution_count": 19,
   "metadata": {},
   "outputs": [
    {
     "name": "stdout",
     "output_type": "stream",
     "text": [
      "Number of total data points: 190442, labels:190442\n"
     ]
    }
   ],
   "source": [
    "from sklearn import preprocessing\n",
    "\n",
    "dataset_x.emp_length = dataset_x.emp_length.apply(lambda x: x[:-6] if 'years' in x else '0')\n",
    "dataset_x.emp_length = dataset_x.emp_length.apply(lambda x: float(x[:-1]) if '+' in x else float(x))\n",
    "dataset_x.term = dataset_x.term.apply(lambda x: float(x.replace(\"months\",\"\")))\n",
    "\n",
    "print \"Number of total data points: %d, labels:%d\" % (len(dataset_x), len(dataset_y))"
   ]
  },
  {
   "cell_type": "code",
   "execution_count": 20,
   "metadata": {},
   "outputs": [
    {
     "name": "stdout",
     "output_type": "stream",
     "text": [
      "          emp_length    dti  term  loan_amnt  annual_inc  total_acc  \\\n",
      "id                                                                    \n",
      "10149566         2.0  15.75  36.0     8000.0     33000.0       16.0   \n",
      "8617375          5.0  27.03  60.0    10000.0     25000.0       22.0   \n",
      "10139596         3.0   3.68  36.0    15000.0     60000.0       12.0   \n",
      "10159404        10.0   8.58  60.0    28000.0    124000.0       40.0   \n",
      "10109587         0.0  27.98  36.0    13225.0     30192.0       21.0   \n",
      "10149332         0.0  30.02  60.0    23675.0     54000.0       33.0   \n",
      "10089464        10.0   4.51  60.0    12000.0     55000.0       20.0   \n",
      "10079427         5.0  19.69  60.0    19425.0     55000.0       26.0   \n",
      "10159240         8.0  20.35  60.0    16000.0    105000.0       38.0   \n",
      "10159109        10.0  13.70  60.0    10600.0     60000.0       20.0   \n",
      "\n",
      "          delinq_2yrs  pub_rec  inq_last_6mths  collections_12_mths_ex_med  \\\n",
      "id                                                                           \n",
      "10149566          0.0      1.0             1.0                         0.0   \n",
      "8617375           0.0      0.0             0.0                         0.0   \n",
      "10139596          0.0      0.0             0.0                         0.0   \n",
      "10159404          0.0      3.0             2.0                         0.0   \n",
      "10109587          0.0      1.0             0.0                         0.0   \n",
      "10149332          0.0      0.0             1.0                         0.0   \n",
      "10089464          0.0      0.0             0.0                         0.0   \n",
      "10079427          0.0      0.0             1.0                         0.0   \n",
      "10159240          1.0      1.0             2.0                         0.0   \n",
      "10159109          0.0      0.0             0.0                         0.0   \n",
      "\n",
      "            ...      p_home_improvement  p_house  p_major_purchase  p_medical  \\\n",
      "id          ...                                                                 \n",
      "10149566    ...                       0        0                 0          0   \n",
      "8617375     ...                       0        0                 0          0   \n",
      "10139596    ...                       0        0                 0          0   \n",
      "10159404    ...                       0        0                 0          0   \n",
      "10109587    ...                       0        0                 0          0   \n",
      "10149332    ...                       0        0                 0          0   \n",
      "10089464    ...                       0        0                 0          0   \n",
      "10079427    ...                       0        0                 0          0   \n",
      "10159240    ...                       0        0                 0          0   \n",
      "10159109    ...                       0        0                 0          0   \n",
      "\n",
      "          p_moving  p_other  p_renewable_energy  p_small_business  p_vacation  \\\n",
      "id                                                                              \n",
      "10149566         0        0                   0                 0           0   \n",
      "8617375          0        0                   0                 0           0   \n",
      "10139596         0        1                   0                 0           0   \n",
      "10159404         0        0                   0                 0           0   \n",
      "10109587         0        0                   0                 0           0   \n",
      "10149332         0        0                   0                 0           0   \n",
      "10089464         0        0                   0                 0           0   \n",
      "10079427         0        0                   0                 0           0   \n",
      "10159240         0        0                   0                 0           0   \n",
      "10159109         0        0                   0                 0           0   \n",
      "\n",
      "          p_wedding  \n",
      "id                   \n",
      "10149566          0  \n",
      "8617375           0  \n",
      "10139596          0  \n",
      "10159404          0  \n",
      "10109587          0  \n",
      "10149332          0  \n",
      "10089464          0  \n",
      "10079427          0  \n",
      "10159240          0  \n",
      "10159109          0  \n",
      "\n",
      "[10 rows x 30 columns]\n"
     ]
    }
   ],
   "source": [
    "home_own = pd.get_dummies(dataset_x.home_ownership, prefix='p')\n",
    "dataset_x[home_own.columns] =  home_own\n",
    "\n",
    "purpose = pd.get_dummies(dataset_x.purpose, prefix='p')\n",
    "dataset_x[purpose.columns] =  purpose\n",
    "\n",
    "del dataset_x['purpose']\n",
    "del dataset_x['home_ownership']\n",
    "print dataset_x.head(10)"
   ]
  },
  {
   "cell_type": "markdown",
   "metadata": {},
   "source": [
    "### Model training + cross-validation"
   ]
  },
  {
   "cell_type": "code",
   "execution_count": 21,
   "metadata": {},
   "outputs": [
    {
     "name": "stdout",
     "output_type": "stream",
     "text": [
      "Dataset shape:  (190442, 30)\n"
     ]
    }
   ],
   "source": [
    "print \"Dataset shape: \",dataset_x.shape"
   ]
  },
  {
   "cell_type": "code",
   "execution_count": 22,
   "metadata": {
    "collapsed": true,
    "jupyter": {
     "outputs_hidden": true
    }
   },
   "outputs": [],
   "source": [
    "from sklearn.ensemble import RandomForestClassifier\n",
    "from sklearn.metrics import accuracy_score, make_scorer\n",
    "from sklearn.model_selection import cross_validate, train_test_split\n",
    "\n",
    "np.random.seed(42)\n",
    "\n",
    "X_train, X_test, y_train, y_test = train_test_split(dataset_x, dataset_y, test_size=0.2, random_state=1)\n",
    "\n",
    "\n",
    "clf = RandomForestClassifier(n_estimators=500, n_jobs=-1)\n",
    "scoring = {'accuracy': make_scorer(accuracy_score),'prec': 'precision'}\n",
    "cv_results = cross_validate(clf, X_train, y_train, scoring=scoring)\n"
   ]
  },
  {
   "cell_type": "code",
   "execution_count": 23,
   "metadata": {},
   "outputs": [
    {
     "name": "stdout",
     "output_type": "stream",
     "text": [
      "train_accuracy [ 1.  1.  1.]\n",
      "score_time [ 8.13182092  7.01968598  6.85910201]\n",
      "fit_time [ 35.61104703  36.31951714  35.30306411]\n",
      "test_accuracy [ 0.76747071  0.76762366  0.76878544]\n",
      "test_prec [ 0.78095356  0.78066624  0.78090879]\n",
      "train_prec [ 1.  1.  1.]\n",
      "Percentage of default in training set:  29\n",
      "Percentage of default in testing set:  30\n"
     ]
    }
   ],
   "source": [
    "for s, r in cv_results.items():\n",
    "    print s, r\n",
    "\n",
    "neg = y_train[y_train == -1].count()\n",
    "pos = y_train[y_train == 1].count()\n",
    "print \"Percentage of default in training set: \", (neg*100/pos)\n",
    "\n",
    "neg2 = y_test[y_test == -1].count()\n",
    "pos2 = y_test[y_test == 1].count()\n",
    "print \"Percentage of default in testing set: \", (neg2*100/pos2)"
   ]
  },
  {
   "cell_type": "markdown",
   "metadata": {},
   "source": [
    "### ROC curve and AUC"
   ]
  },
  {
   "cell_type": "code",
   "execution_count": 24,
   "metadata": {},
   "outputs": [
    {
     "name": "stdout",
     "output_type": "stream",
     "text": [
      "Accuracy score for 100 estimators: 0.764131\n",
      "Accuracy score for 300 estimators: 0.765103\n",
      "Accuracy score for 500 estimators: 0.765182\n",
      "Accuracy score for 1000 estimators: 0.765864\n",
      "Accuracy score for 2000 estimators: 0.765575\n",
      "{0: 0.62434620501150706, 1: 0.62729089456247367, 2: 0.62766553746795617, 3: 0.63129106545808322, 4: 0.62962331701922647}\n"
     ]
    }
   ],
   "source": [
    "# Receiver operating characteristic \n",
    "# TPR = true positive rate vs. FPR = false positive rate, at various threshold settings\n",
    "# Here FPR is better -> specificity = 1 - FPR \n",
    "\n",
    "from sklearn.model_selection import train_test_split, cross_val_score \n",
    "from sklearn.metrics import classification_report, roc_curve, auc\n",
    "\n",
    "fpr = dict()\n",
    "tpr = dict()\n",
    "roc_auc = dict()\n",
    "\n",
    "for i, n_estimators in enumerate([100, 300, 500, 1000, 2000]):\n",
    "    clf = RandomForestClassifier(n_estimators, n_jobs=-1)\n",
    "    clf.fit(X_train, y_train)\n",
    "    y_predict = clf.predict(X_test)\n",
    "    fpr[i], tpr[i], _ = roc_curve(y_predict, y_test, pos_label=1)\n",
    "    print \"Accuracy score for %d estimators: %f\" % (n_estimators, accuracy_score(y_test, y_predict))\n",
    "    roc_auc[i] = auc(fpr[i], tpr[i])\n",
    "    \n",
    "print roc_auc"
   ]
  },
  {
   "cell_type": "code",
   "execution_count": 25,
   "metadata": {},
   "outputs": [
    {
     "data": {
      "image/png": "[encoded data removed]",
      "text/plain": [
       "<matplotlib.figure.Figure at 0x1134ccb90>"
      ]
     },
     "metadata": {},
     "output_type": "display_data"
    }
   ],
   "source": [
    "import matplotlib.pyplot as plt\n",
    "plt.figure()\n",
    "\n",
    "lw = 2 #line width\n",
    "for i, f in enumerate(fpr):\n",
    "    plt.plot(fpr[i], tpr[i], label='ROC curve (area = %0.2f)' % roc_auc[i])\n",
    "\n",
    "plt.plot([0, 1], [0, 1], color='navy', lw=lw, linestyle='--')\n",
    "plt.xlim([0.0, 1.0])\n",
    "plt.ylim([0.0, 1.05])\n",
    "plt.xlabel('False Positive Rate')\n",
    "plt.ylabel('True Positive Rate')\n",
    "plt.title('Receiver operating characteristic example')\n",
    "plt.legend(loc=\"lower right\")\n",
    "plt.show()"
   ]
  },
  {
   "cell_type": "code",
   "execution_count": null,
   "metadata": {
    "collapsed": true,
    "jupyter": {
     "outputs_hidden": true
    }
   },
   "outputs": [],
   "source": []
  }
 ],
 "metadata": {
  "kernelspec": {
   "display_name": "Python 3",
   "language": "python",
   "name": "python3"
  },
  "language_info": {
   "codemirror_mode": {
    "name": "ipython",
    "version": 3
   },
   "file_extension": ".py",
   "mimetype": "text/x-python",
   "name": "python",
   "nbconvert_exporter": "python",
   "pygments_lexer": "ipython3",
   "version": "3.7.4"
  }
 },
 "nbformat": 4,
 "nbformat_minor": 4
}
