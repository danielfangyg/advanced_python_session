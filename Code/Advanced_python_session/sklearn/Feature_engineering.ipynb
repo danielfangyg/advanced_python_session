{
 "cells": [
  {
   "cell_type": "markdown",
   "metadata": {},
   "source": [
    "# Feature engineering"
   ]
  },
  {
   "cell_type": "code",
   "execution_count": 71,
   "metadata": {
    "collapsed": true,
    "jupyter": {
     "outputs_hidden": true
    }
   },
   "outputs": [],
   "source": [
    "import csv\n",
    "import numpy as np\n",
    "import pandas as pd\n",
    "import sklearn"
   ]
  },
  {
   "cell_type": "code",
   "execution_count": 72,
   "metadata": {},
   "outputs": [],
   "source": [
    "df = pd.DataFrame.from_csv(\"../../datasets/loan.csv\")\n",
    "status = ['Fully Paid','Default', 'Charged Off', 'Does not meet the credit policy. Status:Charged Off']\n",
    "data = df[df.loan_status.isin(status)]\n",
    "\n",
    "#binary classification\n",
    "data.loc[:, ('loan_status')]  = data.loan_status.apply(lambda x : +1 if x=='Fully Paid' else -1)\n"
   ]
  },
  {
   "cell_type": "code",
   "execution_count": 73,
   "metadata": {},
   "outputs": [
    {
     "data": {
      "text/html": [
       "<div>\n",
       "<style>\n",
       "    .dataframe thead tr:only-child th {\n",
       "        text-align: right;\n",
       "    }\n",
       "\n",
       "    .dataframe thead th {\n",
       "        text-align: left;\n",
       "    }\n",
       "\n",
       "    .dataframe tbody tr th {\n",
       "        vertical-align: top;\n",
       "    }\n",
       "</style>\n",
       "<table border=\"1\" class=\"dataframe\">\n",
       "  <thead>\n",
       "    <tr style=\"text-align: right;\">\n",
       "      <th></th>\n",
       "      <th>member_id</th>\n",
       "      <th>loan_amnt</th>\n",
       "      <th>funded_amnt</th>\n",
       "      <th>funded_amnt_inv</th>\n",
       "      <th>term</th>\n",
       "      <th>int_rate</th>\n",
       "      <th>installment</th>\n",
       "      <th>grade</th>\n",
       "      <th>sub_grade</th>\n",
       "      <th>emp_title</th>\n",
       "      <th>...</th>\n",
       "      <th>total_bal_il</th>\n",
       "      <th>il_util</th>\n",
       "      <th>open_rv_12m</th>\n",
       "      <th>open_rv_24m</th>\n",
       "      <th>max_bal_bc</th>\n",
       "      <th>all_util</th>\n",
       "      <th>total_rev_hi_lim</th>\n",
       "      <th>inq_fi</th>\n",
       "      <th>total_cu_tl</th>\n",
       "      <th>inq_last_12m</th>\n",
       "    </tr>\n",
       "    <tr>\n",
       "      <th>id</th>\n",
       "      <th></th>\n",
       "      <th></th>\n",
       "      <th></th>\n",
       "      <th></th>\n",
       "      <th></th>\n",
       "      <th></th>\n",
       "      <th></th>\n",
       "      <th></th>\n",
       "      <th></th>\n",
       "      <th></th>\n",
       "      <th></th>\n",
       "      <th></th>\n",
       "      <th></th>\n",
       "      <th></th>\n",
       "      <th></th>\n",
       "      <th></th>\n",
       "      <th></th>\n",
       "      <th></th>\n",
       "      <th></th>\n",
       "      <th></th>\n",
       "      <th></th>\n",
       "    </tr>\n",
       "  </thead>\n",
       "  <tbody>\n",
       "    <tr>\n",
       "      <th>1077501</th>\n",
       "      <td>1296599</td>\n",
       "      <td>5000.0</td>\n",
       "      <td>5000.0</td>\n",
       "      <td>4975.0</td>\n",
       "      <td>36 months</td>\n",
       "      <td>10.65</td>\n",
       "      <td>162.87</td>\n",
       "      <td>B</td>\n",
       "      <td>B2</td>\n",
       "      <td>NaN</td>\n",
       "      <td>...</td>\n",
       "      <td>NaN</td>\n",
       "      <td>NaN</td>\n",
       "      <td>NaN</td>\n",
       "      <td>NaN</td>\n",
       "      <td>NaN</td>\n",
       "      <td>NaN</td>\n",
       "      <td>NaN</td>\n",
       "      <td>NaN</td>\n",
       "      <td>NaN</td>\n",
       "      <td>NaN</td>\n",
       "    </tr>\n",
       "    <tr>\n",
       "      <th>1077430</th>\n",
       "      <td>1314167</td>\n",
       "      <td>2500.0</td>\n",
       "      <td>2500.0</td>\n",
       "      <td>2500.0</td>\n",
       "      <td>60 months</td>\n",
       "      <td>15.27</td>\n",
       "      <td>59.83</td>\n",
       "      <td>C</td>\n",
       "      <td>C4</td>\n",
       "      <td>Ryder</td>\n",
       "      <td>...</td>\n",
       "      <td>NaN</td>\n",
       "      <td>NaN</td>\n",
       "      <td>NaN</td>\n",
       "      <td>NaN</td>\n",
       "      <td>NaN</td>\n",
       "      <td>NaN</td>\n",
       "      <td>NaN</td>\n",
       "      <td>NaN</td>\n",
       "      <td>NaN</td>\n",
       "      <td>NaN</td>\n",
       "    </tr>\n",
       "    <tr>\n",
       "      <th>1077175</th>\n",
       "      <td>1313524</td>\n",
       "      <td>2400.0</td>\n",
       "      <td>2400.0</td>\n",
       "      <td>2400.0</td>\n",
       "      <td>36 months</td>\n",
       "      <td>15.96</td>\n",
       "      <td>84.33</td>\n",
       "      <td>C</td>\n",
       "      <td>C5</td>\n",
       "      <td>NaN</td>\n",
       "      <td>...</td>\n",
       "      <td>NaN</td>\n",
       "      <td>NaN</td>\n",
       "      <td>NaN</td>\n",
       "      <td>NaN</td>\n",
       "      <td>NaN</td>\n",
       "      <td>NaN</td>\n",
       "      <td>NaN</td>\n",
       "      <td>NaN</td>\n",
       "      <td>NaN</td>\n",
       "      <td>NaN</td>\n",
       "    </tr>\n",
       "    <tr>\n",
       "      <th>1076863</th>\n",
       "      <td>1277178</td>\n",
       "      <td>10000.0</td>\n",
       "      <td>10000.0</td>\n",
       "      <td>10000.0</td>\n",
       "      <td>36 months</td>\n",
       "      <td>13.49</td>\n",
       "      <td>339.31</td>\n",
       "      <td>C</td>\n",
       "      <td>C1</td>\n",
       "      <td>AIR RESOURCES BOARD</td>\n",
       "      <td>...</td>\n",
       "      <td>NaN</td>\n",
       "      <td>NaN</td>\n",
       "      <td>NaN</td>\n",
       "      <td>NaN</td>\n",
       "      <td>NaN</td>\n",
       "      <td>NaN</td>\n",
       "      <td>NaN</td>\n",
       "      <td>NaN</td>\n",
       "      <td>NaN</td>\n",
       "      <td>NaN</td>\n",
       "    </tr>\n",
       "    <tr>\n",
       "      <th>1075269</th>\n",
       "      <td>1311441</td>\n",
       "      <td>5000.0</td>\n",
       "      <td>5000.0</td>\n",
       "      <td>5000.0</td>\n",
       "      <td>36 months</td>\n",
       "      <td>7.90</td>\n",
       "      <td>156.46</td>\n",
       "      <td>A</td>\n",
       "      <td>A4</td>\n",
       "      <td>Veolia Transportaton</td>\n",
       "      <td>...</td>\n",
       "      <td>NaN</td>\n",
       "      <td>NaN</td>\n",
       "      <td>NaN</td>\n",
       "      <td>NaN</td>\n",
       "      <td>NaN</td>\n",
       "      <td>NaN</td>\n",
       "      <td>NaN</td>\n",
       "      <td>NaN</td>\n",
       "      <td>NaN</td>\n",
       "      <td>NaN</td>\n",
       "    </tr>\n",
       "  </tbody>\n",
       "</table>\n",
       "<p>5 rows × 73 columns</p>\n",
       "</div>"
      ],
      "text/plain": [
       "         member_id  loan_amnt  funded_amnt  funded_amnt_inv        term  \\\n",
       "id                                                                        \n",
       "1077501    1296599     5000.0       5000.0           4975.0   36 months   \n",
       "1077430    1314167     2500.0       2500.0           2500.0   60 months   \n",
       "1077175    1313524     2400.0       2400.0           2400.0   36 months   \n",
       "1076863    1277178    10000.0      10000.0          10000.0   36 months   \n",
       "1075269    1311441     5000.0       5000.0           5000.0   36 months   \n",
       "\n",
       "         int_rate  installment grade sub_grade             emp_title  \\\n",
       "id                                                                     \n",
       "1077501     10.65       162.87     B        B2                   NaN   \n",
       "1077430     15.27        59.83     C        C4                 Ryder   \n",
       "1077175     15.96        84.33     C        C5                   NaN   \n",
       "1076863     13.49       339.31     C        C1   AIR RESOURCES BOARD   \n",
       "1075269      7.90       156.46     A        A4  Veolia Transportaton   \n",
       "\n",
       "            ...      total_bal_il il_util  open_rv_12m open_rv_24m max_bal_bc  \\\n",
       "id          ...                                                                 \n",
       "1077501     ...               NaN     NaN          NaN         NaN        NaN   \n",
       "1077430     ...               NaN     NaN          NaN         NaN        NaN   \n",
       "1077175     ...               NaN     NaN          NaN         NaN        NaN   \n",
       "1076863     ...               NaN     NaN          NaN         NaN        NaN   \n",
       "1075269     ...               NaN     NaN          NaN         NaN        NaN   \n",
       "\n",
       "         all_util total_rev_hi_lim inq_fi total_cu_tl inq_last_12m  \n",
       "id                                                                  \n",
       "1077501       NaN              NaN    NaN         NaN          NaN  \n",
       "1077430       NaN              NaN    NaN         NaN          NaN  \n",
       "1077175       NaN              NaN    NaN         NaN          NaN  \n",
       "1076863       NaN              NaN    NaN         NaN          NaN  \n",
       "1075269       NaN              NaN    NaN         NaN          NaN  \n",
       "\n",
       "[5 rows x 73 columns]"
      ]
     },
     "execution_count": 73,
     "metadata": {},
     "output_type": "execute_result"
    }
   ],
   "source": [
    "data.head()"
   ]
  },
  {
   "cell_type": "code",
   "execution_count": 74,
   "metadata": {},
   "outputs": [
    {
     "data": {
      "text/plain": [
       "member_id                        int64\n",
       "loan_amnt                      float64\n",
       "funded_amnt                    float64\n",
       "funded_amnt_inv                float64\n",
       "term                            object\n",
       "int_rate                       float64\n",
       "installment                    float64\n",
       "grade                           object\n",
       "sub_grade                       object\n",
       "emp_title                       object\n",
       "emp_length                      object\n",
       "home_ownership                  object\n",
       "annual_inc                     float64\n",
       "verification_status             object\n",
       "issue_d                         object\n",
       "loan_status                      int64\n",
       "pymnt_plan                      object\n",
       "url                             object\n",
       "desc                            object\n",
       "purpose                         object\n",
       "title                           object\n",
       "zip_code                        object\n",
       "addr_state                      object\n",
       "dti                            float64\n",
       "delinq_2yrs                    float64\n",
       "earliest_cr_line                object\n",
       "inq_last_6mths                 float64\n",
       "mths_since_last_delinq         float64\n",
       "mths_since_last_record         float64\n",
       "open_acc                       float64\n",
       "                                ...   \n",
       "collection_recovery_fee        float64\n",
       "last_pymnt_d                    object\n",
       "last_pymnt_amnt                float64\n",
       "next_pymnt_d                    object\n",
       "last_credit_pull_d              object\n",
       "collections_12_mths_ex_med     float64\n",
       "mths_since_last_major_derog    float64\n",
       "policy_code                    float64\n",
       "application_type                object\n",
       "annual_inc_joint               float64\n",
       "dti_joint                      float64\n",
       "verification_status_joint       object\n",
       "acc_now_delinq                 float64\n",
       "tot_coll_amt                   float64\n",
       "tot_cur_bal                    float64\n",
       "open_acc_6m                    float64\n",
       "open_il_6m                     float64\n",
       "open_il_12m                    float64\n",
       "open_il_24m                    float64\n",
       "mths_since_rcnt_il             float64\n",
       "total_bal_il                   float64\n",
       "il_util                        float64\n",
       "open_rv_12m                    float64\n",
       "open_rv_24m                    float64\n",
       "max_bal_bc                     float64\n",
       "all_util                       float64\n",
       "total_rev_hi_lim               float64\n",
       "inq_fi                         float64\n",
       "total_cu_tl                    float64\n",
       "inq_last_12m                   float64\n",
       "Length: 73, dtype: object"
      ]
     },
     "execution_count": 74,
     "metadata": {},
     "output_type": "execute_result"
    }
   ],
   "source": [
    "data.dtypes"
   ]
  },
  {
   "cell_type": "markdown",
   "metadata": {},
   "source": [
    "## Data transformations"
   ]
  },
  {
   "cell_type": "code",
   "execution_count": 75,
   "metadata": {},
   "outputs": [
    {
     "name": "stdout",
     "output_type": "stream",
     "text": [
      "['credit_card' 'car' 'small_business' 'other' 'wedding'\n",
      " 'debt_consolidation' 'home_improvement' 'major_purchase' 'medical'\n",
      " 'moving' 'vacation' 'house' 'renewable_energy' 'educational']\n"
     ]
    }
   ],
   "source": [
    "print data.purpose.unique()"
   ]
  },
  {
   "cell_type": "code",
   "execution_count": 76,
   "metadata": {},
   "outputs": [
    {
     "data": {
      "text/html": [
       "<div>\n",
       "<style>\n",
       "    .dataframe thead tr:only-child th {\n",
       "        text-align: right;\n",
       "    }\n",
       "\n",
       "    .dataframe thead th {\n",
       "        text-align: left;\n",
       "    }\n",
       "\n",
       "    .dataframe tbody tr th {\n",
       "        vertical-align: top;\n",
       "    }\n",
       "</style>\n",
       "<table border=\"1\" class=\"dataframe\">\n",
       "  <thead>\n",
       "    <tr style=\"text-align: right;\">\n",
       "      <th></th>\n",
       "      <th>loan_amnt</th>\n",
       "      <th>dti</th>\n",
       "      <th>purpose</th>\n",
       "      <th>loan_status</th>\n",
       "    </tr>\n",
       "    <tr>\n",
       "      <th>id</th>\n",
       "      <th></th>\n",
       "      <th></th>\n",
       "      <th></th>\n",
       "      <th></th>\n",
       "    </tr>\n",
       "  </thead>\n",
       "  <tbody>\n",
       "    <tr>\n",
       "      <th>1077501</th>\n",
       "      <td>5000.0</td>\n",
       "      <td>27.65</td>\n",
       "      <td>credit_card</td>\n",
       "      <td>1</td>\n",
       "    </tr>\n",
       "    <tr>\n",
       "      <th>1077430</th>\n",
       "      <td>2500.0</td>\n",
       "      <td>1.00</td>\n",
       "      <td>car</td>\n",
       "      <td>-1</td>\n",
       "    </tr>\n",
       "    <tr>\n",
       "      <th>1077175</th>\n",
       "      <td>2400.0</td>\n",
       "      <td>8.72</td>\n",
       "      <td>small_business</td>\n",
       "      <td>1</td>\n",
       "    </tr>\n",
       "    <tr>\n",
       "      <th>1076863</th>\n",
       "      <td>10000.0</td>\n",
       "      <td>20.00</td>\n",
       "      <td>other</td>\n",
       "      <td>1</td>\n",
       "    </tr>\n",
       "    <tr>\n",
       "      <th>1075269</th>\n",
       "      <td>5000.0</td>\n",
       "      <td>11.20</td>\n",
       "      <td>wedding</td>\n",
       "      <td>1</td>\n",
       "    </tr>\n",
       "    <tr>\n",
       "      <th>1072053</th>\n",
       "      <td>3000.0</td>\n",
       "      <td>5.35</td>\n",
       "      <td>car</td>\n",
       "      <td>1</td>\n",
       "    </tr>\n",
       "    <tr>\n",
       "      <th>1071795</th>\n",
       "      <td>5600.0</td>\n",
       "      <td>5.55</td>\n",
       "      <td>small_business</td>\n",
       "      <td>-1</td>\n",
       "    </tr>\n",
       "    <tr>\n",
       "      <th>1071570</th>\n",
       "      <td>5375.0</td>\n",
       "      <td>18.08</td>\n",
       "      <td>other</td>\n",
       "      <td>-1</td>\n",
       "    </tr>\n",
       "    <tr>\n",
       "      <th>1070078</th>\n",
       "      <td>6500.0</td>\n",
       "      <td>16.12</td>\n",
       "      <td>debt_consolidation</td>\n",
       "      <td>1</td>\n",
       "    </tr>\n",
       "    <tr>\n",
       "      <th>1069908</th>\n",
       "      <td>12000.0</td>\n",
       "      <td>10.78</td>\n",
       "      <td>debt_consolidation</td>\n",
       "      <td>1</td>\n",
       "    </tr>\n",
       "  </tbody>\n",
       "</table>\n",
       "</div>"
      ],
      "text/plain": [
       "         loan_amnt    dti             purpose  loan_status\n",
       "id                                                        \n",
       "1077501     5000.0  27.65         credit_card            1\n",
       "1077430     2500.0   1.00                 car           -1\n",
       "1077175     2400.0   8.72      small_business            1\n",
       "1076863    10000.0  20.00               other            1\n",
       "1075269     5000.0  11.20             wedding            1\n",
       "1072053     3000.0   5.35                 car            1\n",
       "1071795     5600.0   5.55      small_business           -1\n",
       "1071570     5375.0  18.08               other           -1\n",
       "1070078     6500.0  16.12  debt_consolidation            1\n",
       "1069908    12000.0  10.78  debt_consolidation            1"
      ]
     },
     "execution_count": 76,
     "metadata": {},
     "output_type": "execute_result"
    }
   ],
   "source": [
    "#dti = deb to income\n",
    "data = data[['loan_amnt','dti','purpose', 'loan_status']][:10000]\n",
    "data.head(10)"
   ]
  },
  {
   "cell_type": "code",
   "execution_count": 77,
   "metadata": {},
   "outputs": [
    {
     "name": "stdout",
     "output_type": "stream",
     "text": [
      "['car', 'credit_card', 'debt_consolidation', 'educational', 'home_improvement', 'house', 'major_purchase', 'medical', 'moving', 'other', 'renewable_energy', 'small_business', 'vacation', 'wedding']\n",
      "         loan_amnt    dti  purpose  loan_status\n",
      "id                                             \n",
      "1077501     5000.0  27.65        1            1\n",
      "1077430     2500.0   1.00        0           -1\n",
      "1077175     2400.0   8.72       10            1\n",
      "1076863    10000.0  20.00        8            1\n",
      "1075269     5000.0  11.20       12            1\n",
      "1072053     3000.0   5.35        0            1\n",
      "1071795     5600.0   5.55       10           -1\n",
      "1071570     5375.0  18.08        8           -1\n",
      "1070078     6500.0  16.12        2            1\n",
      "1069908    12000.0  10.78        2            1\n"
     ]
    }
   ],
   "source": [
    "from sklearn.preprocessing import LabelEncoder\n",
    "categ = df.purpose.unique()\n",
    "le = LabelEncoder()\n",
    "le.fit(categ)\n",
    "print list(le.classes_)\n",
    "data.purpose = data['purpose'].to_frame().apply(le.fit_transform)\n",
    "print data.head(10)"
   ]
  },
  {
   "cell_type": "code",
   "execution_count": 78,
   "metadata": {},
   "outputs": [
    {
     "name": "stdout",
     "output_type": "stream",
     "text": [
      "         p_0  p_1  p_2  p_3  p_4  p_5  p_6  p_7  p_8  p_9  p_10  p_11  p_12\n",
      "id                                                                         \n",
      "1077501    0    1    0    0    0    0    0    0    0    0     0     0     0\n",
      "1077430    1    0    0    0    0    0    0    0    0    0     0     0     0\n",
      "1077175    0    0    0    0    0    0    0    0    0    0     1     0     0\n",
      "1076863    0    0    0    0    0    0    0    0    1    0     0     0     0\n",
      "1075269    0    0    0    0    0    0    0    0    0    0     0     0     1\n",
      "1072053    1    0    0    0    0    0    0    0    0    0     0     0     0\n",
      "1071795    0    0    0    0    0    0    0    0    0    0     1     0     0\n",
      "1071570    0    0    0    0    0    0    0    0    1    0     0     0     0\n",
      "1070078    0    0    1    0    0    0    0    0    0    0     0     0     0\n",
      "1069908    0    0    1    0    0    0    0    0    0    0     0     0     0\n"
     ]
    }
   ],
   "source": [
    "one = pd.get_dummies(data.purpose, prefix='p')\n",
    "print one.head(10)"
   ]
  },
  {
   "cell_type": "code",
   "execution_count": 79,
   "metadata": {},
   "outputs": [
    {
     "name": "stdout",
     "output_type": "stream",
     "text": [
      "         loan_amnt    dti  purpose  loan_status  p_0  p_1  p_2  p_3  p_4  p_5  \\\n",
      "id                                                                              \n",
      "1077501     5000.0  27.65        1            1    0    1    0    0    0    0   \n",
      "1077430     2500.0   1.00        0           -1    1    0    0    0    0    0   \n",
      "1077175     2400.0   8.72       10            1    0    0    0    0    0    0   \n",
      "1076863    10000.0  20.00        8            1    0    0    0    0    0    0   \n",
      "1075269     5000.0  11.20       12            1    0    0    0    0    0    0   \n",
      "1072053     3000.0   5.35        0            1    1    0    0    0    0    0   \n",
      "1071795     5600.0   5.55       10           -1    0    0    0    0    0    0   \n",
      "1071570     5375.0  18.08        8           -1    0    0    0    0    0    0   \n",
      "1070078     6500.0  16.12        2            1    0    0    1    0    0    0   \n",
      "1069908    12000.0  10.78        2            1    0    0    1    0    0    0   \n",
      "\n",
      "         p_6  p_7  p_8  p_9  p_10  p_11  p_12  \n",
      "id                                             \n",
      "1077501    0    0    0    0     0     0     0  \n",
      "1077430    0    0    0    0     0     0     0  \n",
      "1077175    0    0    0    0     1     0     0  \n",
      "1076863    0    0    1    0     0     0     0  \n",
      "1075269    0    0    0    0     0     0     1  \n",
      "1072053    0    0    0    0     0     0     0  \n",
      "1071795    0    0    0    0     1     0     0  \n",
      "1071570    0    0    1    0     0     0     0  \n",
      "1070078    0    0    0    0     0     0     0  \n",
      "1069908    0    0    0    0     0     0     0  \n"
     ]
    }
   ],
   "source": [
    "data[one.columns] =  one\n",
    "print data.head(10)"
   ]
  },
  {
   "cell_type": "code",
   "execution_count": 80,
   "metadata": {},
   "outputs": [
    {
     "name": "stdout",
     "output_type": "stream",
     "text": [
      "         loan_amnt    dti  loan_status  p_0  p_1  p_2  p_3  p_4  p_5  p_6  \\\n",
      "id                                                                          \n",
      "1077501     5000.0  27.65            1    0    1    0    0    0    0    0   \n",
      "1077430     2500.0   1.00           -1    1    0    0    0    0    0    0   \n",
      "1077175     2400.0   8.72            1    0    0    0    0    0    0    0   \n",
      "1076863    10000.0  20.00            1    0    0    0    0    0    0    0   \n",
      "1075269     5000.0  11.20            1    0    0    0    0    0    0    0   \n",
      "1072053     3000.0   5.35            1    1    0    0    0    0    0    0   \n",
      "1071795     5600.0   5.55           -1    0    0    0    0    0    0    0   \n",
      "1071570     5375.0  18.08           -1    0    0    0    0    0    0    0   \n",
      "1070078     6500.0  16.12            1    0    0    1    0    0    0    0   \n",
      "1069908    12000.0  10.78            1    0    0    1    0    0    0    0   \n",
      "\n",
      "         p_7  p_8  p_9  p_10  p_11  p_12  \n",
      "id                                        \n",
      "1077501    0    0    0     0     0     0  \n",
      "1077430    0    0    0     0     0     0  \n",
      "1077175    0    0    0     1     0     0  \n",
      "1076863    0    1    0     0     0     0  \n",
      "1075269    0    0    0     0     0     1  \n",
      "1072053    0    0    0     0     0     0  \n",
      "1071795    0    0    0     1     0     0  \n",
      "1071570    0    1    0     0     0     0  \n",
      "1070078    0    0    0     0     0     0  \n",
      "1069908    0    0    0     0     0     0  \n"
     ]
    }
   ],
   "source": [
    "del data['purpose']\n",
    "print data.head(10)"
   ]
  },
  {
   "cell_type": "markdown",
   "metadata": {},
   "source": [
    "## Text feature extraction"
   ]
  },
  {
   "cell_type": "code",
   "execution_count": 81,
   "metadata": {
    "collapsed": true,
    "jupyter": {
     "outputs_hidden": true
    }
   },
   "outputs": [],
   "source": [
    "text = df.title[:10000]"
   ]
  },
  {
   "cell_type": "code",
   "execution_count": 82,
   "metadata": {
    "scrolled": true
   },
   "outputs": [
    {
     "name": "stdout",
     "output_type": "stream",
     "text": [
      "id\n",
      "1077501                                 Computer\n",
      "1077430                                     bike\n",
      "1077175                     real estate business\n",
      "1076863                                 personel\n",
      "1075358                                 Personal\n",
      "1075269    My wedding loan I promise to pay back\n",
      "1069639                                     Loan\n",
      "1072053                          Car Downpayment\n",
      "1071795     Expand Business & Buy Debt Portfolio\n",
      "1071570              Building my credit history.\n",
      "Name: title, dtype: object\n"
     ]
    }
   ],
   "source": [
    "print text.head(10)"
   ]
  },
  {
   "cell_type": "code",
   "execution_count": 83,
   "metadata": {
    "collapsed": true,
    "jupyter": {
     "outputs_hidden": true
    }
   },
   "outputs": [],
   "source": [
    "from sklearn.feature_extraction.text import CountVectorizer\n",
    "\n",
    "#transforming words to vectors of counts\n",
    "count_vect = CountVectorizer(stop_words='english')\n",
    "\n",
    "text = text.apply(lambda x : str(x).lower())\n",
    "\n",
    "#create a sparse dictionary (matrix) for each title\n",
    "dictionary = count_vect.fit_transform(text)"
   ]
  },
  {
   "cell_type": "code",
   "execution_count": 84,
   "metadata": {},
   "outputs": [
    {
     "name": "stdout",
     "output_type": "stream",
     "text": [
      "  (0, 430)\t1\n",
      "  (1, 240)\t1\n",
      "  (2, 301)\t1\n",
      "  (2, 720)\t1\n",
      "  (2, 1475)\t1\n",
      "  (3, 1373)\t1\n",
      "  (4, 1370)\t1\n",
      "  (5, 1341)\t1\n",
      "  (5, 1434)\t1\n",
      "  (5, 1110)\t1\n",
      "  (5, 1909)\t1\n",
      "  (6, 1110)\t1\n",
      "  (7, 663)\t1\n",
      "  (7, 326)\t1\n",
      "  (8, 1406)\t1\n",
      "  (8, 589)\t1\n",
      "  (8, 307)\t1\n",
      "  (8, 730)\t1\n",
      "  (8, 301)\t1\n",
      "  (9, 939)\t1\n",
      "  (9, 536)\t1\n",
      "  (9, 294)\t1\n"
     ]
    }
   ],
   "source": [
    "print dictionary[:10]"
   ]
  },
  {
   "cell_type": "code",
   "execution_count": 85,
   "metadata": {},
   "outputs": [
    {
     "name": "stdout",
     "output_type": "stream",
     "text": [
      "[u'00', u'000', u'02', u'05', u'07', u'08', u'0809healthbills', u'081011', u'09', u'10', u'100', u'10000', u'101', u'10k', u'11', u'1166', u'12', u'120', u'12142011', u'13k', u'14', u'14400', u'14k', u'15', u'150', u'16', u'162', u'16k', u'16kloan', u'17', u'18', u'18mos', u'19', u'190e', u'1941', u'1948', u'1964', u'1968', u'1969', u'1975', u'1976', u'1995', u'1999', u'1fb', u'1k', u'1st', u'2001', u'2003', u'2005', u'2007', u'2010', u'2011', u'2011loan', u'2011loanconsol', u'2011payoff', u'2011q4', u'2012', u'2014', u'2015', u'20k', u'21k', u'21sept2011', u'22', u'23', u'24', u'2400', u'25', u'250', u'26', u'27', u'29', u'2d', u'2nd', u'30', u'300', u'3100', u'34', u'350', u'35k', u'36', u'3900', u'3k', u'3rd', u'40', u'401', u'401k', u'403b', u'42k', u'4x4', u'5000', u'502countdown', u'50th', u'5200', u'53', u'56', u'57apr', u'5k', u'5th', u'60', u'6000', u'60m', u'62', u'67', u'6x6', u'70', u'720', u'72003yr', u'73', u'7750', u'7k', u'800', u'84', u'85', u'8k', u'900', u'95', u'98', u'99', u'999', u'abode', u'abolished', u'ac', u'accnts', u'account', u'accounting', u'accounts', u'acquiring', u'acquisition', u'acquistion', u'acre', u'acreage', u'active', u'acupuncture', u'acura', u'add', u'added', u'addition', u'adios', u'adjacent', u'adjustment', u'advancement', u'advantage', u'advertising', u'aftermath', u'ahead', u'aid', u'air', u'airplane', u'alabama', u'allen', u'allied', u'almonds', u'alt', u'alternative', u'amazon', u'america', u'american', u'amex', u'amexcaptchasamaz', u'amexloan', u'anniversary', u'antique', u'anto', u'anuj_wedding_loan', u'apartment', u'apgrade', u'app', u'appliance', u'appliances', u'applicance', u'apr', u'april', u'apt', u'aquistion', u'arctic', u'arena', u'arm', u'army', u'asap', u'asking', u'asset', u'assets', u'assist', u'assistance', u'atlantic', u'att', u'attached', u'attorney', u'atty', u'atv', u'auction', u'august', u'austin', u'auto', u'automotive', u'autos', u'avoid', u'away', u'ba', u'baby', u'backup', u'backyard', u'bad', u'bail', u'bailout', u'balance', u'balanced', u'balances', u'balloon', u'ban', u'bank', u'banker', u'banks', u'barclay', u'barclays', u'barn', u'basement', u'basic', u'bass', u'bath', u'bathroom', u'bathroomm', u'bathrooms', u'beach', u'beat', u'beautification', u'beautiful', u'beauty', u'bebt', u'bed', u'bedroom', u'beef', u'begin', u'begining', u'beginning', u'beginnings', u'begone', u'better', u'betterrate', u'big', u'bike', u'billpayoff', u'bills', u'billspayoff', u'bingo', u'biz', u'black', u'blaine', u'blank', u'blazer', u'bldg', u'blessed', u'blessing', u'blessings', u'bloody', u'blow', u'blowout', u'blue', u'blues', u'bmw', u'bnk', u'boa', u'boa_debtpayment', u'boarding', u'boat', u'bobs', u'body', u'bofa', u'bonus', u'boost', u'borrower', u'borrowers', u'boston', u'bound', u'box', u'braces', u'bratt', u'bravada', u'break', u'breath', u'breathe', u'breathing', u'bridge', u'bright', u'brighter', u'bronco', u'brother', u'brown', u'budget', u'budgeting', u'buggy', u'buh', u'buick', u'build', u'building', u'buildout', u'buiness', u'buisness', u'burner', u'burning', u'busines', u'business', u'businesscapital', u'businessloan', u'bussiness', u'buster', u'busy', u'buy', u'buying', u'bye', u'cabin', u'cabinet', u'cadillac', u'cafe', u'cali', u'california', u'camaro', u'came', u'camper', u'camry', u'cancel', u'canes', u'canvas', u'cap', u'capital', u'capitol', u'car', u'car4me', u'card', u'card2', u'cardrefi', u'cardridance', u'cards', u'care', u'career', u'cargo', u'carpet', u'carry', u'cars', u'cart', u'casebeerconsolidate', u'cash', u'cashmoney', u'catch', u'catfish', u'cats', u'cb', u'cc', u'cc_refi', u'ccard', u'ccards', u'ccc', u'ccconsolidation', u'ccdebt', u'ccpay', u'ccpayoff', u'ccs', u'cedit', u'ceiling', u'cells', u'cement', u'centennial', u'central', u'cerdit', u'chance', u'change', u'changer', u'changing', u'charge', u'chase', u'cheaper', u'cheeper', u'chev', u'chevrolet', u'child', u'childcare', u'choice', u'choir', u'chooses', u'chop', u'chopper', u'christmas', u'chunkloaner', u'cincinnati', u'citi', u'citi1', u'citibank', u'citicard', u'city', u'civic', u'clarinet', u'classic', u'clean', u'cleaning', u'cleanup', u'cleanupcc', u'clear', u'clearcredit2011', u'clearing', u'client', u'clk', u'close', u'closed', u'closeout', u'closer', u'closing', u'closure', u'club', u'cobalt', u'coderezereo', u'coledon', u'collective', u'college', u'colsidation', u'colsolidate', u'columbia', u'comanche', u'combat', u'combine', u'combined', u'combining', u'combo', u'come', u'commercebank', u'commitment', u'compact', u'company', u'complete', u'completion', u'compression', u'computer', u'comsolidate', u'concolidation', u'concrete', u'conditioning', u'condo', u'condolidation', u'condominium', u'condsodation', u'cons', u'consalidation', u'consalitdating', u'consid', u'considate', u'considation', u'consildate', u'consildation', u'consilidate', u'consilidation', u'consladate', u'conslidation', u'conslitdation', u'conso', u'consoidation', u'consoilidation', u'consoiloation', u'consol', u'consoladate', u'consoladation', u'consoldation', u'consoldiation', u'consoldidation', u'consolditation', u'console', u'consolidaiton', u'consolidat', u'consolidatation', u'consolidate', u'consolidate2', u'consolidate3debtsinto1payoff', u'consolidateccs', u'consolidated', u'consolidatenow', u'consolidater', u'consolidati', u'consolidatiion', u'consolidating', u'consolidatioin', u'consolidation', u'consolidation2014', u'consolidationhelp', u'consolidationloan', u'consolidationn', u'consolidations', u'consolidatoin', u'consolidaton', u'consolidator', u'consolididation', u'consolidificacion', u'consolidion', u'consolidtion', u'consolihappydaytion', u'consolitation', u'consolitdation', u'consolln', u'consolo', u'consolodate', u'consolodation', u'construction', u'consuladation', u'consulidate', u'consult', u'consultation', u'consulting', u'consumer', u'continental', u'continued', u'contract', u'contractor', u'contracts', u'contribution', u'control', u'cooling', u'copart', u'cos', u'cosilidation', u'cosmetic', u'cosolidate', u'cosolidation', u'cost', u'costco', u'costs', u'count', u'countdown', u'countertops', u'coupe', u'course', u'cover', u'coverage', u'covered', u'cpa', u'crabtree', u'create', u'creating', u'credentials', u'credi', u'credit', u'credit_card', u'creditcaard', u'creditcard', u'creditcardconsolidation', u'creditcardloan', u'creditcards', u'creditcardspayoff', u'creditconsolidation', u'creditloan', u'credits', u'creek', u'crf450', u'crown', u'crownline', u'crredit', u'cruch', u'cruise', u'crunch', u'crush', u'crusher', u'culvert', u'current', u'cushion', u'cusion', u'custom', u'customer', u'cut', u'cutter', u'cutting', u'cwhatcardpay', u'cycle', u'dac', u'dad', u'daddy', u'dads', u'dallas', u'damage', u'damn', u'dance', u'dancewiththewind', u'daniel', u'daughter', u'daughters', u'davidson', u'day', u'days', u'dc', u'deal', u'death', u'deb', u'debet', u'debit', u'debt', u'debt2', u'debt_consolidation', u'debtaway', u'debtcon', u'debtcon1', u'debtconslidation', u'debtconsol', u'debtconsol2011', u'debtconsolidate', u'debtconsolidation', u'debtconsolidationforaaaborrower', u'debtconsolidationloan', u'debtconsolidationn', u'debtdent', u'debtfix', u'debtfree', u'debtfree24', u'debtfreeagain', u'debtfreein36', u'debtpayoff', u'debtrelief', u'debtrelief4me', u'debts', u'dec', u'december', u'deck', u'decor', u'dedt', u'dee', u'deep', u'defence', u'del', u'delta', u'deluccia', u'demons', u'dent', u'dental', u'dentist', u'deposit', u'depot', u'dept', u'desired', u'desperate', u'destroy', u'detroit', u'deux', u'development', u'deville', u'diamond', u'difference', u'differnce', u'digging', u'direction', u'dirtbike', u'dis', u'disaster', u'disc', u'discover', u'discovercard', u'discoverkohlsbillmelater', u'discovery', u'disney', u'ditch', u'doc', u'doctor', u'dodge', u'doing', u'dollars', u'dominate', u'dont', u'doo', u'door', u'doors', u'downpayment', u'dream', u'dreams', u'drilling', u'drink', u'driveway', u'drop', u'drowning', u'duex', u'dump', u'dumping', u'duster', u'duty', u'eagleflight', u'early', u'easier', u'easy', u'easy_financing', u'eater', u'ebay', u'ed', u'education', u'educational', u'effiecncy', u'efforts', u'egg', u'electric', u'eliminate', u'elimination', u'eliminato', u'eliminator', u'em', u'emergency', u'emergeny', u'employed', u'enagic', u'end', u'endofyear2011', u'energy', u'engagement', u'engagment', u'engine', u'enjoyment', u'enterprise', u'entertainment', u'enthusiast', u'environment', u'envoy', u'eoy', u'equipment', u'equity', u'eradicate', u'eradication', u'erase', u'eraser', u'escape', u'established', u'estate', u'european', u'events', u'evil', u'excavation', u'excellence', u'excellent', u'executive', u'existing', u'exp', u'expand', u'expanding', u'expansion', u'expenditures', u'expense', u'expenses', u'experience', u'express', u'exspenses', u'extra', u'extraordinaire', u'extras', u'eye', u'eyes', u'ez', u'f150', u'f350', u'facility', u'fail', u'faith', u'fall', u'family', u'family07', u'familyneeds', u'famleisure', u'farewell', u'farm', u'fast', u'faster', u'fat', u'fatboy', u'federal', u'feel', u'fees', u'feet', u'fence', u'fever', u'fi', u'fia', u'fianancial', u'fiat', u'fico', u'film', u'filtration', u'fina', u'finacial', u'final', u'finale', u'finally', u'finance', u'finances', u'financial', u'financially', u'financing', u'finding', u'finish', u'finished', u'finishing', u'finito', u'firebird', u'firm', u'first1', u'fiscal', u'fishmaster', u'fitness', u'fix', u'fixed', u'fixin', u'fixing', u'fl', u'flair', u'flex', u'flight', u'flood', u'floor', u'flooring', u'floors', u'florida', u'floridahome', u'flow', u'focused', u'followthrough', u'food', u'foodtvrefi', u'footing', u'ford', u'foreclosure', u'forever', u'forgood', u'forward', u'foundation', u'fourteen', u'franchise', u'fraud', u'freddom', u'fredom', u'free', u'freedom', u'freedom11', u'freedom3', u'freightliner', u'fresh', u'friend', u'friendly', u'fulltimestudent', u'fully', u'fun', u'fund', u'funded', u'funding', u'funds', u'fundtofinancecar', u'funeral', u'furnace', u'furnaces', u'furninshing', u'furnish', u'furnishing', u'furnishings', u'furniture', u'future', u'garage', u'gas', u'gate', u'gear', u'general', u'generator', u'geothermal', u'germany', u'getaway', u'getfinancefit', u'getoutofdebt', u'getting', u'gift', u'gifts', u'glasses', u'goal', u'god', u'godsent', u'going', u'gold', u'golf', u'gone', u'good', u'goodbye', u'goodbyedebt', u'goodluck2011', u'got', u'goumandakoye', u'gourmet', u'gov', u'grad', u'graduate', u'grand', u'grandad', u'grandbaby', u'great', u'green', u'greener4', u'grow', u'growing', u'growth', u'guaranteed', u'gulfstream', u'gutters', u'guy', u'habits', u'half', u'halloween', u'hammer', u'happier', u'happiness', u'happy', u'hard', u'hardwood', u'hardworking', u'harley', u'harrelson', u'harvick', u'hawaii', u'hawks', u'hay', u'health', u'healthy', u'heat', u'heater', u'heather', u'heating', u'heatingandairconditioning', u'heidi', u'hello', u'heloc', u'help', u'helper', u'helpful', u'helpfurr', u'helping', u'helpingloan', u'helpme', u'helpme369', u'hemhorrage', u'hi', u'hidden', u'high', u'highdebtreduce', u'higher', u'hiloan2011', u'hip', u'historic', u'history', u'hit', u'hold', u'hole', u'holiday', u'holidays', u'home', u'home_improvement', u'homeimprovement', u'homeloan', u'homes', u'homevac', u'homie', u'honda', u'honest', u'honesty', u'honeymoon', u'hope', u'hopeful', u'hoping', u'horse', u'hot', u'house', u'household', u'houses', u'housing', u'hsbc', u'hsecu', u'hsn', u'hump', u'hurrican', u'hvac', u'hyundai', u'ii', u'im', u'immediate', u'imp', u'implant', u'implants', u'impro', u'improovement', u'improv', u'improve', u'improveme', u'improvement', u'improvementloan', u'improvements', u'improvemnt', u'improvemt', u'improving', u'improvment', u'improvments', u'improvove', u'imprumutul', u'imrovment', u'income', u'increase', u'indoor', u'inflation', u'infusion', u'inground', u'initial', u'initiative', u'ink', u'inneed', u'inprovement', u'inprovemet', u'insanity', u'install', u'installation', u'installment', u'instead', u'instrument', u'insurance', u'int', u'international', u'intrest', u'inventory', u'invest', u'investement', u'investmen', u'investment', u'investments', u'invisalign', u'ionization', u'ionized', u'ionizer', u'ireland', u'irene', u'irs', u'island', u'issues', u'itch', u'ivf', u'jam', u'jazz', u'jchloan', u'jeep', u'jeeploan2002', u'jet', u'jetta', u'job', u'jumpstart', u'just', u'justcase32', u'kathy', u'kawasaki', u'kelly', u'kentucky', u'keywest', u'kicking', u'kids', u'kill', u'killer', u'killing', u'king', u'kitchen', u'konsolidation', u'kristen', u'kw', u'l8', u'land', u'land_of_lincoln', u'landcruiser', u'landscape', u'landscaping', u'laon', u'laptop', u'large', u'las', u'lasik', u'lastloan', u'late', u'launch', u'laura', u'lawn', u'lawyers', u'lc', u'lc2', u'le', u'leaky', u'leave', u'ledingclubloan', u'left', u'leg', u'legal', u'lemans', u'lenders', u'lending', u'lendingclub', u'lendingclub_2400', u'lendingclubloan', u'lessons', u'let', u'letsgetouttadebtfaster', u'liberation', u'liberty', u'licensing', u'life', u'lifesaver', u'light', u'lightning', u'limousine', u'line', u'liquidity', u'little', u'live', u'livestock', u'living', u'load', u'loam', u'loan', u'loan01', u'loan1', u'loan20', u'loan2011', u'loan4me', u'loan90', u'loanconsolidation', u'loans', u'loansep2011', u'lon', u'lone', u'long', u'looking', u'loss', u'lot', u'louisiana', u'lounge', u'love', u'loveloan', u'lovely', u'low', u'lower', u'lowerapr', u'lowering', u'lowerratemeanseasiertogetoutofdebt', u'lowpay', u'ltv', u'luck', u'lucky', u'luckycookie', u'lv', u'ma', u'machine', u'machines', u'macys', u'magna', u'main', u'maine', u'maintaining', u'maintance', u'maintenance', u'maj', u'major', u'make', u'makeup', u'making', u'makingchanges2012', u'mall', u'manage', u'management', u'manufacturing', u'marines', u'market', u'marketing', u'marriage', u'married', u'mas', u'massive', u'master', u'materials', u'mazda', u'mba', u'mbna', u'md', u'meat', u'med', u'medic', u'medical', u'medicalconsolidation', u'medicalexpense', u'medicals', u'medpayment', u'member', u'merc', u'mercedes', u'mes', u'mess', u'metal', u'metpayoff', u'mgmt', u'miata', u'mid', u'mike', u'mikes', u'miles', u'military', u'mind', u'minivan', u'minor', u'mint', u'miracle', u'misc', u'miscellaneous', u'miscellenous', u'missed', u'mission', u'mistake', u'mistakes', u'mnts', u'mo', u'mobile', u'model', u'modest', u'mom', u'money', u'money123', u'monkey', u'montana', u'month', u'monthly', u'months', u'mortgage', u'motion', u'moto', u'motor', u'motorcycle', u'motorhome', u'moved', u'movement', u'movin', u'moving', u'munchkin1098', u'music', u'musician', u'mustanf', u'mustang', u'my_loan', u'mycredit', u'mycreditcards', u'mydebts', u'myfirstloan', u'myloan', u'mypayoff', u'myreduction', u'myroad2freedom', u'nantucket', u'nascar', u'nchome_dream', u'necessary', u'necessities', u'need', u'needed', u'needs', u'nest', u'net', u'neverlate', u'new', u'newknee', u'nh', u'nieces', u'nightmare', u'nikon', u'ninja', u'nissan', u'nodebt', u'nofish2', u'nomoreccdebt', u'nomorecredit', u'nordstrom', u'note', u'notes', u'nov', u'nov2011', u'november', u'nugget', u'nuisances', u'numbers', u'nutrition', u'ny', u'nyc', u'october', u'october24', u'octoberwedding', u'odp', u'office', u'officer', u'offs', u'oh', u'oil', u'ok', u'oklahoma', u'old', u'olds', u'onemain', u'onemainrefi', u'onestepcloser', u'onsite', u'opening', u'operating', u'operation', u'opportunity', u'opps', u'order', u'organize', u'organized', u'organizing', u'othe', u'outboard', u'outdoor', u'outofdebt', u'outofdebtgoal', u'outofdept', u'outta', u'overall', u'overhaul', u'overseas', u'owed', u'owned', u'p2p', u'pa', u'pack', u'pagos', u'paid', u'paint', u'painting', u'pal', u'palisades', u'panel', u'panels', u'paramedic', u'paramedicine', u'parents', u'partnership', u'party', u'past', u'patent', u'path', u'pathway2', u'patio', u'pawn', u'pay', u'payables', u'payback', u'paybackanew', u'paybackcards', u'paycc', u'payday', u'paydown', u'paydude13', u'payer', u'paying', u'payitoff', u'payment', u'payments', u'paymet', u'paynow', u'payoff', u'payoffcredit8242011', u'payoffparents', u'payoffs', u'payout', u'paypal', u'paythebillsoff', u'peace', u'percolation', u'perfect', u'persoanl', u'person', u'persona', u'personal', u'personalloan', u'personalp', u'personel', u'personl', u'personnal', u'personnel', u'pertsonal', u'pesonal', u'pet', u'photo', u'pickup', u'picture', u'piece', u'pilot', u'pinball', u'pipes', u'place', u'plan', u'plane', u'planning', u'plans', u'plastic', u'platinum', u'plymouth', u'pmt', u'pnc', u'pocket', u'polaris', u'ponte', u'pontiac', u'poo', u'pool', u'popup', u'porch', u'port', u'portfolio', u'post', u'postage', u'pours', u'power', u'ppl', u'pre', u'premier', u'preparing', u'presents', u'pretty', u'prevailing', u'primary', u'prior', u'private', u'probs', u'procedure', u'process', u'product', u'production', u'products', u'prof', u'profitable', u'program', u'progress', u'project', u'projects', u'projets', u'promise', u'promised', u'promising', u'propbuy', u'properties', u'property', u'prospect', u'prosper', u'prosperity', u'prosperitynow', u'prosthetic', u'protect', u'proven', u'puchase', u'puerto', u'pulling', u'pump', u'purchase', u'purchases', u'purchasing', u'purification', u'purpose', u'purposes', u'putting', u'q4', u'quad', u'qualified', u'quality', u'quick', u'rabbit', u'raft', u'rains', u'raising', u'ram', u'rambler', u'ran', u'ranger', u'rate', u'rates', u'raw', u'rea', u'real', u'really', u'reasonableloan', u'reasons', u'rebeccah', u'rebuild', u'rebuilding', u'recent', u'reception', u'recession', u'recon2012', u'recovery', u'recreation', u'red', u'redcar', u'redecorating', u'redemption', u'redit', u'redo', u'reduce', u'reducer', u'reducing', u'reduct', u'reduction', u'reductions', u'refi', u'refiance', u'refinace', u'refinance', u'refinanced', u'refinancing', u'refince', u'reflective', u'refrigerator', u'refurbishment', u'refy', u'reginance', u'regroup', u'relations', u'release', u'reliable', u'relief', u'relieffreedom', u'reliever', u'reline', u'relocating', u'relocation', u'remainder', u'remaining', u'remedial', u'remediation', u'remodel', u'remodeled', u'remodeling', u'remote', u'removal', u'renaissance', u'renewable', u'reno', u'renovation', u'renovations', u'rent', u'rental', u'reorganization', u'repai', u'repair', u'repairs', u'repay', u'repay1', u'repaying', u'repayment', u'replace', u'replacement', u'replacing', u'repower', u'requirements', u'reroof', u'reseeding', u'resolution', u'resource', u'resources', u'responsibility', u'responsible', u'resposibility', u'restart', u'restaurant', u'restoration', u'restore', u'restructure', u'restructuring', u'resturant', u'resurfacing', u'retail', u'retainer', u'retaining', u'retire', u'retired', u'retirement', u'return', u'reunion', u'reup', u'revamp', u'revolving', u'rework', u'rid', u'ridding', u'rigging', u'right', u'ring', u'rip', u'risk', u'road', u'rock', u'rod', u'rolex', u'roll', u'rollup', u'roof', u'room', u'round', u'run', u'running', u'rv', u'rzr', u's10', u's2k', u'saab', u'sac', u'sacramento', u'safe', u'safety', u'sailboat', u'sailor', u'salon', u'salt', u'salvation', u'sam', u'sample', u'sav', u'save', u'saved', u'saver', u'savethedyloan', u'saving', u'savings', u'savings2012', u'savior', u'savor', u'savpln', u'savvy', u'say', u'saying', u'school', u'scientific', u'scion', u'scooter', u'score', u'screwedup', u'sears', u'season', u'seasonal', u'second', u'secondloan', u'secu', u'secure', u'securejob', u'security', u'seed', u'seeking', u'self', u'sell', u'selling', u'semi', u'seo', u'sep', u'sep11', u'sept', u'september', u'septic', u'service', u'settlement', u'settling', u'sf', u'shardebt', u'share', u'shingle', u'shoes2011', u'shop', u'short', u'shovelhead', u'shower', u'shred', u'shutdown', u'sick', u'siding', u'signature', u'silver', u'silverado', u'silverloan', u'simple', u'simplify', u'simplifying', u'sinking', u'site', u'sized', u'sj2011consolidation', u'ski', u'skies', u'sky', u'skylark', u'slate', u'sleep', u'small', u'small_business', u'smaller', u'smart', u'smarter', u'smile', u'smokehouse', u'snap', u'snow', u'snowball', u'snowmobile', u'soccer', u'soccerplayer', u'software', u'sol', u'solar', u'sold', u'solid', u'solution', u'son', u'sonata', u'soon', u'sorting', u'south', u'spa', u'space', u'spending', u'spider', u'sport', u'sports', u'spreader', u'sprinter', u'srt', u'st', u'stand', u'standard', u'start', u'started', u'starting', u'startup', u'station', u'steady', u'steelers', u'steeps', u'stem', u'step', u'stop', u'stopit', u'storage', u'store', u'storm', u'strategy', u'stratos', u'street', u'stress', u'student', u'studio', u'stuff', u'subprime', u'success', u'successful', u'suck', u'suergery', u'sunchaser', u'sunroom', u'super', u'superior', u'supplement', u'support', u'surgery', u'surprise', u'survival', u'susan', u'suzie', u'swa', u'sweet', u'sweeter', u'swim', u'swimmimg', u'swimming', u'syclone', u'tags', u'taken', u'taking', u'target', u'tarjetas', u'tarp', u'tattoo', u'tavern', u'tax', u'taxes', u'tc', u'temp', u'term', u'terminator', u'terrapin', u'test', u'thailand', u'thank', u'thanks', u'things', u'thousand', u'thunderbird', u'timber', u'time', u'times', u'timeshare', u'tinei', u'tired', u'tires', u'titan', u'titanium', u'tk1', u'tom', u'tomorrow', u'toolbox', u'tools', u'topsoil', u'total', u'totally', u'townhouse', u'toxic', u'toy', u'toy4me', u'toyota', u'track', u'tractor', u'trading', u'trailer', u'trans', u'transfer', u'transmission', u'travel', u'treats', u'tree', u'trial', u'tricks', u'trip', u'triumph', u'trouble', u'trs', u'truck', u'trucker', u'trucking', u'trying', u'tsp', u'tub', u'tuit', u'tuition', u'tunnel', u'turn', u'turns', u'turtles', u'twilight', u'ultimate', u'uncle', u'unepected', u'unexpected', u'unforeseen', u'unionstaff', u'unique', u'unit', u'universal', u'universe', u'unsecure', u'unsecured', u'update', u'upfront', u'upgrade', u'upgrades', u'upgrading', u'ural', u'urgent', u'usaa', u'use', u'used', u'user', u'using', u'utilities', u'utv', u'v70', u'vac', u'vacation', u'vacay', u'vaction', u'vallarta', u'van', u'variable', u'various', u've', u'vedra', u'vegas', u'vegashouse', u'vehicle', u'veneers', u'ventilation', u'venture', u'veteran', u'vic', u'victorian', u'video', u'viking', u'viola', u'virginia', u'visa', u'vocation', u'volunteer', u'volvo', u'vstar', u'vulcan', u'vwloan', u'wall', u'wallet', u'want', u'wanting', u'wants', u'wanttopaydebt', u'water', u'waterproofing', u'way', u'website', u'wedd', u'wedding', u'wedding1', u'weddingexpenses', u'wedds', u'weight', u'welding', u'wells', u'whaler', u'wheel', u'wheeler', u'wheels', u'white', u'wholesaler', u'wide', u'wife', u'win', u'windows', u'winning', u'winter', u'wipe', u'wiping', u'wise', u'wiser', u'wish', u'woman', u'won', u'wonderful', u'woodburner', u'work', u'working', u'world', u'worthy', u'wrangler', u'wrap', u'wrist', u'wyndham', u'x5', u'xmas', u'xmass', u'yamaha', u'yard', u'year', u'years', u'yo', u'york', u'youth', u'zero', u'zipcar', u'zone']\n"
     ]
    }
   ],
   "source": [
    "print count_vect.get_feature_names()"
   ]
  },
  {
   "cell_type": "code",
   "execution_count": 86,
   "metadata": {},
   "outputs": [
    {
     "name": "stdout",
     "output_type": "stream",
     "text": [
      "  (0, 430)\t1.0\n",
      "  (1, 240)\t1.0\n",
      "  (2, 1475)\t0.664857153025\n",
      "  (2, 720)\t0.654114945156\n",
      "  (2, 301)\t0.360691841599\n",
      "  (3, 1373)\t1.0\n",
      "  (4, 1370)\t1.0\n",
      "  (5, 1909)\t0.414466960464\n",
      "  (5, 1110)\t0.181952503072\n",
      "  (5, 1434)\t0.809497778997\n",
      "  (5, 1341)\t0.37393016876\n",
      "  (6, 1110)\t1.0\n",
      "  (7, 326)\t0.490248796783\n",
      "  (7, 663)\t0.871582536111\n",
      "  (8, 301)\t0.282349338712\n",
      "  (8, 730)\t0.573807401957\n",
      "  (8, 307)\t0.460973310144\n",
      "  (8, 589)\t0.13898827824\n",
      "  (8, 1406)\t0.599341123431\n",
      "  (9, 294)\t0.671621220728\n",
      "  (9, 536)\t0.245709451513\n",
      "  (9, 939)\t0.698964806914\n"
     ]
    }
   ],
   "source": [
    "from sklearn.feature_extraction.text import TfidfTransformer\n",
    "\n",
    "# Transforms a count matrix to a normalized tf or tf-idf representation\n",
    "# tf-idf(d, t) = tf(t) * idf(d, t)\n",
    "# idf(d, t) = log [ n / df(d, t) ] + 1 \n",
    "tf_transformer = TfidfTransformer().fit(dictionary)\n",
    "dictionary_tf = tf_transformer.transform(dictionary)\n",
    "\n",
    "print dictionary_tf[:10]"
   ]
  },
  {
   "cell_type": "code",
   "execution_count": 87,
   "metadata": {},
   "outputs": [
    {
     "name": "stdout",
     "output_type": "stream",
     "text": [
      "   0     1     2     3     4     5     6     7     8     9     ...   1948  \\\n",
      "0   0.0   0.0   0.0   0.0   0.0   0.0   0.0   0.0   0.0   0.0  ...    0.0   \n",
      "1   0.0   0.0   0.0   0.0   0.0   0.0   0.0   0.0   0.0   0.0  ...    0.0   \n",
      "2   0.0   0.0   0.0   0.0   0.0   0.0   0.0   0.0   0.0   0.0  ...    0.0   \n",
      "3   0.0   0.0   0.0   0.0   0.0   0.0   0.0   0.0   0.0   0.0  ...    0.0   \n",
      "4   0.0   0.0   0.0   0.0   0.0   0.0   0.0   0.0   0.0   0.0  ...    0.0   \n",
      "5   0.0   0.0   0.0   0.0   0.0   0.0   0.0   0.0   0.0   0.0  ...    0.0   \n",
      "6   0.0   0.0   0.0   0.0   0.0   0.0   0.0   0.0   0.0   0.0  ...    0.0   \n",
      "7   0.0   0.0   0.0   0.0   0.0   0.0   0.0   0.0   0.0   0.0  ...    0.0   \n",
      "8   0.0   0.0   0.0   0.0   0.0   0.0   0.0   0.0   0.0   0.0  ...    0.0   \n",
      "9   0.0   0.0   0.0   0.0   0.0   0.0   0.0   0.0   0.0   0.0  ...    0.0   \n",
      "\n",
      "   1949  1950  1951  1952  1953  1954  1955  1956  1957  \n",
      "0   0.0   0.0   0.0   0.0   0.0   0.0   0.0   0.0   0.0  \n",
      "1   0.0   0.0   0.0   0.0   0.0   0.0   0.0   0.0   0.0  \n",
      "2   0.0   0.0   0.0   0.0   0.0   0.0   0.0   0.0   0.0  \n",
      "3   0.0   0.0   0.0   0.0   0.0   0.0   0.0   0.0   0.0  \n",
      "4   0.0   0.0   0.0   0.0   0.0   0.0   0.0   0.0   0.0  \n",
      "5   0.0   0.0   0.0   0.0   0.0   0.0   0.0   0.0   0.0  \n",
      "6   0.0   0.0   0.0   0.0   0.0   0.0   0.0   0.0   0.0  \n",
      "7   0.0   0.0   0.0   0.0   0.0   0.0   0.0   0.0   0.0  \n",
      "8   0.0   0.0   0.0   0.0   0.0   0.0   0.0   0.0   0.0  \n",
      "9   0.0   0.0   0.0   0.0   0.0   0.0   0.0   0.0   0.0  \n",
      "\n",
      "[10 rows x 1958 columns]\n"
     ]
    }
   ],
   "source": [
    "tfidf = dictionary_tf.todense()\n",
    "dd = pd.DataFrame(tfidf)\n",
    "print dd.head(10)"
   ]
  },
  {
   "cell_type": "code",
   "execution_count": 88,
   "metadata": {},
   "outputs": [
    {
     "name": "stdout",
     "output_type": "stream",
     "text": [
      "my wedding loan i promise to pay back\n"
     ]
    }
   ],
   "source": [
    "print text.iloc[5]"
   ]
  },
  {
   "cell_type": "code",
   "execution_count": 89,
   "metadata": {},
   "outputs": [
    {
     "name": "stdout",
     "output_type": "stream",
     "text": [
      "  (0, 1341)\t1\n",
      "  (0, 1434)\t1\n",
      "  (0, 1110)\t1\n",
      "  (0, 1909)\t1\n"
     ]
    }
   ],
   "source": [
    "print dictionary[5,:]"
   ]
  },
  {
   "cell_type": "code",
   "execution_count": 90,
   "metadata": {},
   "outputs": [
    {
     "name": "stdout",
     "output_type": "stream",
     "text": [
      "[array([u'pay', u'promise', u'loan', u'wedding'], \n",
      "      dtype='<U34')]\n"
     ]
    }
   ],
   "source": [
    "print count_vect.inverse_transform(dictionary[5,:])"
   ]
  },
  {
   "cell_type": "code",
   "execution_count": 91,
   "metadata": {},
   "outputs": [
    {
     "name": "stdout",
     "output_type": "stream",
     "text": [
      "  (0, 1909)\t0.414466960464\n",
      "  (0, 1110)\t0.181952503072\n",
      "  (0, 1434)\t0.809497778997\n",
      "  (0, 1341)\t0.37393016876\n"
     ]
    }
   ],
   "source": [
    "print dictionary_tf[5,:]"
   ]
  }
 ],
 "metadata": {
  "kernelspec": {
   "display_name": "Python 3",
   "language": "python",
   "name": "python3"
  },
  "language_info": {
   "codemirror_mode": {
    "name": "ipython",
    "version": 3
   },
   "file_extension": ".py",
   "mimetype": "text/x-python",
   "name": "python",
   "nbconvert_exporter": "python",
   "pygments_lexer": "ipython3",
   "version": "3.7.4"
  }
 },
 "nbformat": 4,
 "nbformat_minor": 4
}
