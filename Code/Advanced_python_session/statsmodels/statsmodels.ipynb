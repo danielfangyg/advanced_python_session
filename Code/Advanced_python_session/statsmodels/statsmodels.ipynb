{
 "cells": [
  {
   "cell_type": "code",
   "execution_count": 4,
   "metadata": {},
   "outputs": [],
   "source": [
    "import quandl\n",
    "import yaml\n",
    "import matplotlib.pyplot as plt\n",
    "plt.style.use('seaborn-darkgrid')\n",
    "# with open('keys.yaml', 'r') as fstream:\n",
    "#     keys = yaml.load(fstream, yaml.SafeLoader)\n",
    "# fstream.close()"
   ]
  },
  {
   "cell_type": "markdown",
   "metadata": {},
   "source": [
    "# Steps\n",
    "\n",
    "\n",
    "-  Introduction\n",
    "-  Setup\n",
    "    -  Import the datasets\n",
    "    -  Visualize the Time Series\n",
    "    -  Cleaning\n",
    "-  Run\n",
    "    -  Convert to return\n",
    "    -  Calculate rolling beta\n",
    "\n",
    "## Introduction\n",
    "\n",
    "We will calculate rolling 36 monthe CAPM beta of IBM.\n",
    "\n",
    "## Setup\n",
    "\n",
    "Dataset used:\n",
    "\n",
    "|#| ticker/Index   | Data Provider   | Ticker              | Frequency |\n",
    "|-|----------------|-----------------|---------------------|-----------|\n",
    "|1| IBM            | Yahoo Finance   | IBM                 | Daily     |\n",
    "|2| S&P 500 TR     | Yahoo Finance   | SP500TR             | Daily     |\n",
    "|3| Risk Free Rate | Fred            | TB3MS               | Monthly   |\n",
    "\n",
    "\n",
    "## Run\n",
    "\n",
    "Note:\n",
    "We convert the annual yield to monthly value by dividing by 1200. \n",
    "This is not the risk free rate strictly speaking.\n",
    "but it is close to Rf for all practical purposes.\n",
    "\n",
    "We use the dividend adjusted and split prices to monthly returns"
   ]
  },
  {
   "cell_type": "code",
   "execution_count": 52,
   "metadata": {},
   "outputs": [],
   "source": [
    "# !pip install yfinance\n",
    "# !pip install quandl\n",
    "# !pip install fredapi"
   ]
  },
  {
   "cell_type": "code",
   "execution_count": 59,
   "metadata": {},
   "outputs": [],
   "source": [
    "from fredapi import Fred\n",
    "fred = Fred(keys['fred'])\n",
    "rfdf = fred.get_series('TB3MS')\n",
    "rfdf = rfdf.to_frame('Rf')\n",
    "rfdf.index += pd.offsets.MonthEnd()\n",
    "#Monthly 3 month treasury bill (secondary market)"
   ]
  },
  {
   "cell_type": "code",
   "execution_count": 7,
   "metadata": {},
   "outputs": [],
   "source": [
    "import yfinance as yf\n",
    "import datetime as dt\n",
    "import pandas as pd\n",
    "stdt = \"1998-01-03\"\n",
    "endt = dt.datetime.today().strftime('%Y-%m-%d')\n",
    "sp500df = pd.read_csv('SPTR.csv')\n",
    "ibmdf = pd.read_csv('IBM.csv')\n",
    "file_end_date = pd.to_datetime(sp500df['Date'].iloc[-1])\n",
    "day_old = (file_end_date - pd.to_datetime(endt)).days\n",
    "\n",
    "if day_old > 30:\n",
    "    stdt = (file_end_date + pd.offsets.BDay()).strftime('%Y-%m-%d')\n",
    "    print('Re-downloading from {:s} and appending to existing file'.format(file_end_date.strftime))\n",
    "    sp500df = pd.concat([sp500df, yf.download(\"^SP500TR\", start=stdt, end=endt)], axis=1)\n",
    "    ibmdf   = pd.concat([ibmdf, yf.download(\"IBM\", start=stdt, end=endt)], axis=1)\n",
    "    ibmdf.to_csv('IBM.csv')\n",
    "    sp500df.to_csv('SPTR.csv')\n",
    "\n",
    "    "
   ]
  },
  {
   "cell_type": "code",
   "execution_count": 11,
   "metadata": {},
   "outputs": [],
   "source": [
    "ibmdf['Date'] = pd.to_datetime(ibmdf.Date)\n",
    "ibmdf.set_index('Date', inplace=True)\n",
    "sp500df['Date'] = pd.to_datetime(sp500df.Date)\n",
    "sp500df.set_index('Date', inplace=True)\n",
    "\n",
    "regdata = ibmdf.loc[:, 'Adj Close'].to_frame('IBM').join(sp500df.loc[:, 'Close'].to_frame('Rm'), how='left')"
   ]
  },
  {
   "cell_type": "code",
   "execution_count": 13,
   "metadata": {},
   "outputs": [
    {
     "data": {
      "text/html": [
       "<div>\n",
       "<style scoped>\n",
       "    .dataframe tbody tr th:only-of-type {\n",
       "        vertical-align: middle;\n",
       "    }\n",
       "\n",
       "    .dataframe tbody tr th {\n",
       "        vertical-align: top;\n",
       "    }\n",
       "\n",
       "    .dataframe thead th {\n",
       "        text-align: right;\n",
       "    }\n",
       "</style>\n",
       "<table border=\"1\" class=\"dataframe\">\n",
       "  <thead>\n",
       "    <tr style=\"text-align: right;\">\n",
       "      <th></th>\n",
       "      <th>IBM</th>\n",
       "      <th>Rm</th>\n",
       "    </tr>\n",
       "    <tr>\n",
       "      <th>Date</th>\n",
       "      <th></th>\n",
       "      <th></th>\n",
       "    </tr>\n",
       "  </thead>\n",
       "  <tbody>\n",
       "    <tr>\n",
       "      <td>2020-05-18</td>\n",
       "      <td>121.559998</td>\n",
       "      <td>6037.899902</td>\n",
       "    </tr>\n",
       "    <tr>\n",
       "      <td>2020-05-19</td>\n",
       "      <td>120.290001</td>\n",
       "      <td>5975.149902</td>\n",
       "    </tr>\n",
       "    <tr>\n",
       "      <td>2020-05-20</td>\n",
       "      <td>121.379997</td>\n",
       "      <td>6075.759766</td>\n",
       "    </tr>\n",
       "    <tr>\n",
       "      <td>2020-05-21</td>\n",
       "      <td>119.120003</td>\n",
       "      <td>6028.930176</td>\n",
       "    </tr>\n",
       "    <tr>\n",
       "      <td>2020-05-22</td>\n",
       "      <td>118.389999</td>\n",
       "      <td>6044.160156</td>\n",
       "    </tr>\n",
       "  </tbody>\n",
       "</table>\n",
       "</div>"
      ],
      "text/plain": [
       "                   IBM           Rm\n",
       "Date                               \n",
       "2020-05-18  121.559998  6037.899902\n",
       "2020-05-19  120.290001  5975.149902\n",
       "2020-05-20  121.379997  6075.759766\n",
       "2020-05-21  119.120003  6028.930176\n",
       "2020-05-22  118.389999  6044.160156"
      ]
     },
     "execution_count": 13,
     "metadata": {},
     "output_type": "execute_result"
    }
   ],
   "source": [
    "regdata.tail()"
   ]
  },
  {
   "cell_type": "code",
   "execution_count": 14,
   "metadata": {},
   "outputs": [
    {
     "data": {
      "text/plain": [
       "<matplotlib.axes._subplots.AxesSubplot at 0x7fdbea891450>"
      ]
     },
     "execution_count": 14,
     "metadata": {},
     "output_type": "execute_result"
    },
    {
     "data": {
      "image/png": "[encoded data removed]",
      "text/plain": [
       "<Figure size 432x288 with 1 Axes>"
      ]
     },
     "metadata": {},
     "output_type": "display_data"
    }
   ],
   "source": [
    "regdata.div(regdata.iloc[0,:]).plot(logy=True)"
   ]
  },
  {
   "cell_type": "code",
   "execution_count": 15,
   "metadata": {},
   "outputs": [
    {
     "ename": "NameError",
     "evalue": "name 'rfdf' is not defined",
     "output_type": "error",
     "traceback": [
      "\u001b[0;31m---------------------------------------------------------------------------\u001b[0m",
      "\u001b[0;31mNameError\u001b[0m                                 Traceback (most recent call last)",
      "\u001b[0;32m<ipython-input-15-1d251e26f63d>\u001b[0m in \u001b[0;36m<module>\u001b[0;34m\u001b[0m\n\u001b[1;32m      5\u001b[0m        \u001b[0mresample\u001b[0m\u001b[0;34m(\u001b[0m\u001b[0;34m'M'\u001b[0m\u001b[0;34m)\u001b[0m\u001b[0;34m.\u001b[0m\u001b[0mlast\u001b[0m\u001b[0;34m(\u001b[0m\u001b[0;34m)\u001b[0m\u001b[0;34m.\u001b[0m\u001b[0;31m\\\u001b[0m\u001b[0;34m\u001b[0m\u001b[0;34m\u001b[0m\u001b[0m\n\u001b[1;32m      6\u001b[0m        \u001b[0mpct_change\u001b[0m\u001b[0;34m(\u001b[0m\u001b[0;34m)\u001b[0m\u001b[0;34m.\u001b[0m\u001b[0;31m\\\u001b[0m\u001b[0;34m\u001b[0m\u001b[0;34m\u001b[0m\u001b[0m\n\u001b[0;32m----> 7\u001b[0;31m        \u001b[0mjoin\u001b[0m\u001b[0;34m(\u001b[0m\u001b[0mrfdf\u001b[0m\u001b[0;34m/\u001b[0m\u001b[0;36m1200\u001b[0m\u001b[0;34m,\u001b[0m \u001b[0mhow\u001b[0m\u001b[0;34m=\u001b[0m\u001b[0;34m'left'\u001b[0m\u001b[0;34m)\u001b[0m\u001b[0;34m\u001b[0m\u001b[0;34m\u001b[0m\u001b[0m\n\u001b[0m\u001b[1;32m      8\u001b[0m \u001b[0;31m# data['Rf'] = data['Rf'].ffill()\u001b[0m\u001b[0;34m\u001b[0m\u001b[0;34m\u001b[0m\u001b[0;34m\u001b[0m\u001b[0m\n\u001b[1;32m      9\u001b[0m \u001b[0mdata\u001b[0m \u001b[0;34m=\u001b[0m \u001b[0mdata\u001b[0m\u001b[0;34m.\u001b[0m\u001b[0mdropna\u001b[0m\u001b[0;34m(\u001b[0m\u001b[0;34m)\u001b[0m\u001b[0;34m\u001b[0m\u001b[0;34m\u001b[0m\u001b[0m\n",
      "\u001b[0;31mNameError\u001b[0m: name 'rfdf' is not defined"
     ]
    }
   ],
   "source": [
    "#fill down to end of month\n",
    "#convert data to monthly\n",
    "#price to return\n",
    "data = regdata.ffill().\\\n",
    "       resample('M').last().\\\n",
    "       pct_change().\\\n",
    "       join(rfdf/1200, how='left')\n",
    "# data['Rf'] = data['Rf'].ffill()\n",
    "data = data.dropna()"
   ]
  },
  {
   "cell_type": "code",
   "execution_count": 163,
   "metadata": {},
   "outputs": [],
   "source": [
    "exdata = data.loc[:, data.columns[:2]].sub(data.loc[:, data.columns[2]], axis=0)"
   ]
  },
  {
   "cell_type": "code",
   "execution_count": 164,
   "metadata": {},
   "outputs": [
    {
     "data": {
      "text/plain": [
       "<seaborn.axisgrid.JointGrid at 0x7f5656332250>"
      ]
     },
     "execution_count": 164,
     "metadata": {},
     "output_type": "execute_result"
    },
    {
     "data": {
      "image/png": "[encoded data removed]",
      "text/plain": [
       "<Figure size 432x432 with 3 Axes>"
      ]
     },
     "metadata": {},
     "output_type": "display_data"
    }
   ],
   "source": [
    "import seaborn as sns\n",
    "sns.jointplot(x='Rm', y='IBM', data=exdata, kind=\"reg\")"
   ]
  },
  {
   "cell_type": "code",
   "execution_count": 16,
   "metadata": {},
   "outputs": [
    {
     "ename": "NameError",
     "evalue": "name 'exdata' is not defined",
     "output_type": "error",
     "traceback": [
      "\u001b[0;31m---------------------------------------------------------------------------\u001b[0m",
      "\u001b[0;31mNameError\u001b[0m                                 Traceback (most recent call last)",
      "\u001b[0;32m<ipython-input-16-006f8acb5842>\u001b[0m in \u001b[0;36m<module>\u001b[0;34m\u001b[0m\n\u001b[1;32m      9\u001b[0m     \u001b[0mreg\u001b[0m \u001b[0;34m=\u001b[0m \u001b[0mmodel\u001b[0m\u001b[0;34m.\u001b[0m\u001b[0mfit\u001b[0m\u001b[0;34m(\u001b[0m\u001b[0;34m)\u001b[0m\u001b[0;34m\u001b[0m\u001b[0;34m\u001b[0m\u001b[0m\n\u001b[1;32m     10\u001b[0m     \u001b[0;32mreturn\u001b[0m \u001b[0mreg\u001b[0m\u001b[0;34m.\u001b[0m\u001b[0mparams\u001b[0m\u001b[0;34m[\u001b[0m\u001b[0;36m1\u001b[0m\u001b[0;34m]\u001b[0m\u001b[0;34m\u001b[0m\u001b[0;34m\u001b[0m\u001b[0m\n\u001b[0;32m---> 11\u001b[0;31m \u001b[0mprint\u001b[0m\u001b[0;34m(\u001b[0m\u001b[0;34m'Full sample Beta (non-Robust) {:3.2f}'\u001b[0m\u001b[0;34m.\u001b[0m\u001b[0mformat\u001b[0m\u001b[0;34m(\u001b[0m\u001b[0mcalc_beta\u001b[0m\u001b[0;34m(\u001b[0m\u001b[0mexdata\u001b[0m\u001b[0;34m,\u001b[0m \u001b[0mexdata\u001b[0m\u001b[0;34m,\u001b[0m \u001b[0;34m'IBM'\u001b[0m\u001b[0;34m,\u001b[0m \u001b[0;34m'Rm'\u001b[0m\u001b[0;34m)\u001b[0m\u001b[0;34m)\u001b[0m\u001b[0;34m)\u001b[0m\u001b[0;34m\u001b[0m\u001b[0;34m\u001b[0m\u001b[0m\n\u001b[0m\u001b[1;32m     12\u001b[0m \u001b[0mprint\u001b[0m\u001b[0;34m(\u001b[0m\u001b[0;34m'Full sample Beta (Robust)     {:3.2f}'\u001b[0m\u001b[0;34m.\u001b[0m\u001b[0mformat\u001b[0m\u001b[0;34m(\u001b[0m\u001b[0mcalc_beta\u001b[0m\u001b[0;34m(\u001b[0m\u001b[0mexdata\u001b[0m\u001b[0;34m,\u001b[0m \u001b[0mexdata\u001b[0m\u001b[0;34m,\u001b[0m \u001b[0;34m'IBM'\u001b[0m\u001b[0;34m,\u001b[0m \u001b[0;34m'Rm'\u001b[0m\u001b[0;34m,\u001b[0m \u001b[0mrobust\u001b[0m\u001b[0;34m=\u001b[0m\u001b[0;32mTrue\u001b[0m\u001b[0;34m)\u001b[0m\u001b[0;34m)\u001b[0m\u001b[0;34m)\u001b[0m\u001b[0;34m\u001b[0m\u001b[0;34m\u001b[0m\u001b[0m\n\u001b[1;32m     13\u001b[0m \u001b[0mbeta\u001b[0m \u001b[0;34m=\u001b[0m \u001b[0mexdata\u001b[0m\u001b[0;34m.\u001b[0m\u001b[0mloc\u001b[0m\u001b[0;34m[\u001b[0m\u001b[0;34m:\u001b[0m\u001b[0;34m,\u001b[0m \u001b[0;34m[\u001b[0m\u001b[0;34m'IBM'\u001b[0m\u001b[0;34m]\u001b[0m\u001b[0;34m]\u001b[0m\u001b[0;34m.\u001b[0m\u001b[0mrolling\u001b[0m\u001b[0;34m(\u001b[0m\u001b[0mwindow\u001b[0m\u001b[0;34m=\u001b[0m\u001b[0;36m60\u001b[0m\u001b[0;34m)\u001b[0m\u001b[0;34m.\u001b[0m\u001b[0mapply\u001b[0m\u001b[0;34m(\u001b[0m\u001b[0mcalc_beta\u001b[0m\u001b[0;34m,\u001b[0m \u001b[0mraw\u001b[0m\u001b[0;34m=\u001b[0m\u001b[0;32mFalse\u001b[0m\u001b[0;34m,\u001b[0m \u001b[0margs\u001b[0m\u001b[0;34m=\u001b[0m\u001b[0;34m(\u001b[0m\u001b[0mexdata\u001b[0m\u001b[0;34m,\u001b[0m \u001b[0;34m'IBM'\u001b[0m\u001b[0;34m,\u001b[0m \u001b[0;34m'Rm'\u001b[0m\u001b[0;34m)\u001b[0m\u001b[0;34m)\u001b[0m\u001b[0;34m\u001b[0m\u001b[0;34m\u001b[0m\u001b[0m\n",
      "\u001b[0;31mNameError\u001b[0m: name 'exdata' is not defined"
     ]
    }
   ],
   "source": [
    "import statsmodels.api as sm\n",
    "def calc_beta(s, df, col, mktcol, robust=False):    \n",
    "    X = sm.add_constant(df.loc[s.index, mktcol])\n",
    "    y = df.loc[s.index, col]\n",
    "    if not robust:\n",
    "        model = sm.OLS(y, X)\n",
    "    else:\n",
    "        model = sm.RLM(y, X)\n",
    "    reg = model.fit()\n",
    "    return reg.params[1]\n",
    "print('Full sample Beta (non-Robust) {:3.2f}'.format(calc_beta(exdata, exdata, 'IBM', 'Rm')))\n",
    "print('Full sample Beta (Robust)     {:3.2f}'.format(calc_beta(exdata, exdata, 'IBM', 'Rm', robust=True)))\n",
    "beta = exdata.loc[:, ['IBM']].rolling(window=60).apply(calc_beta, raw=False, args=(exdata, 'IBM', 'Rm'))\n",
    "fig, ax = plt.subplots(1,1)\n",
    "ax.plot(beta.dropna())"
   ]
  },
  {
   "cell_type": "code",
   "execution_count": 169,
   "metadata": {},
   "outputs": [
    {
     "data": {
      "text/html": [
       "<div>\n",
       "<style scoped>\n",
       "    .dataframe tbody tr th:only-of-type {\n",
       "        vertical-align: middle;\n",
       "    }\n",
       "\n",
       "    .dataframe tbody tr th {\n",
       "        vertical-align: top;\n",
       "    }\n",
       "\n",
       "    .dataframe thead th {\n",
       "        text-align: right;\n",
       "    }\n",
       "</style>\n",
       "<table border=\"1\" class=\"dataframe\">\n",
       "  <thead>\n",
       "    <tr style=\"text-align: right;\">\n",
       "      <th></th>\n",
       "      <th>IBM</th>\n",
       "    </tr>\n",
       "    <tr>\n",
       "      <th>Date</th>\n",
       "      <th></th>\n",
       "    </tr>\n",
       "  </thead>\n",
       "  <tbody>\n",
       "    <tr>\n",
       "      <td>2019-12-31</td>\n",
       "      <td>1.34</td>\n",
       "    </tr>\n",
       "    <tr>\n",
       "      <td>2020-01-31</td>\n",
       "      <td>1.33</td>\n",
       "    </tr>\n",
       "    <tr>\n",
       "      <td>2020-02-29</td>\n",
       "      <td>1.29</td>\n",
       "    </tr>\n",
       "    <tr>\n",
       "      <td>2020-03-31</td>\n",
       "      <td>1.27</td>\n",
       "    </tr>\n",
       "    <tr>\n",
       "      <td>2020-04-30</td>\n",
       "      <td>1.24</td>\n",
       "    </tr>\n",
       "  </tbody>\n",
       "</table>\n",
       "</div>"
      ],
      "text/plain": [
       "             IBM\n",
       "Date            \n",
       "2019-12-31  1.34\n",
       "2020-01-31  1.33\n",
       "2020-02-29  1.29\n",
       "2020-03-31  1.27\n",
       "2020-04-30  1.24"
      ]
     },
     "execution_count": 169,
     "metadata": {},
     "output_type": "execute_result"
    }
   ],
   "source": [
    "beta.tail().round(2)"
   ]
  },
  {
   "cell_type": "markdown",
   "metadata": {},
   "source": [
    "<img src='ibm_beta.png'>"
   ]
  },
  {
   "cell_type": "code",
   "execution_count": 154,
   "metadata": {},
   "outputs": [],
   "source": [
    "# https://docs.quandl.com/docs/python-time-series\n",
    "aapl = quandl.get('EOD/AAPL', api_key = keys['quandl'], start_date=stdt, end_date=endt, collapse=\"monthly\")"
   ]
  },
  {
   "cell_type": "code",
   "execution_count": 155,
   "metadata": {},
   "outputs": [
    {
     "data": {
      "text/html": [
       "<div>\n",
       "<style scoped>\n",
       "    .dataframe tbody tr th:only-of-type {\n",
       "        vertical-align: middle;\n",
       "    }\n",
       "\n",
       "    .dataframe tbody tr th {\n",
       "        vertical-align: top;\n",
       "    }\n",
       "\n",
       "    .dataframe thead th {\n",
       "        text-align: right;\n",
       "    }\n",
       "</style>\n",
       "<table border=\"1\" class=\"dataframe\">\n",
       "  <thead>\n",
       "    <tr style=\"text-align: right;\">\n",
       "      <th></th>\n",
       "      <th>Open</th>\n",
       "      <th>High</th>\n",
       "      <th>Low</th>\n",
       "      <th>Close</th>\n",
       "      <th>Volume</th>\n",
       "      <th>Dividend</th>\n",
       "      <th>Split</th>\n",
       "      <th>Adj_Open</th>\n",
       "      <th>Adj_High</th>\n",
       "      <th>Adj_Low</th>\n",
       "      <th>Adj_Close</th>\n",
       "      <th>Adj_Volume</th>\n",
       "    </tr>\n",
       "    <tr>\n",
       "      <th>Date</th>\n",
       "      <th></th>\n",
       "      <th></th>\n",
       "      <th></th>\n",
       "      <th></th>\n",
       "      <th></th>\n",
       "      <th></th>\n",
       "      <th></th>\n",
       "      <th></th>\n",
       "      <th></th>\n",
       "      <th></th>\n",
       "      <th></th>\n",
       "      <th></th>\n",
       "    </tr>\n",
       "  </thead>\n",
       "  <tbody>\n",
       "    <tr>\n",
       "      <td>2013-09-30</td>\n",
       "      <td>477.25</td>\n",
       "      <td>481.66</td>\n",
       "      <td>474.411</td>\n",
       "      <td>476.750</td>\n",
       "      <td>9291300.0</td>\n",
       "      <td>0.0</td>\n",
       "      <td>1.0</td>\n",
       "      <td>60.686516</td>\n",
       "      <td>61.247287</td>\n",
       "      <td>60.325513</td>\n",
       "      <td>60.622937</td>\n",
       "      <td>65039100.0</td>\n",
       "    </tr>\n",
       "    <tr>\n",
       "      <td>2013-10-31</td>\n",
       "      <td>525.00</td>\n",
       "      <td>527.49</td>\n",
       "      <td>521.270</td>\n",
       "      <td>522.702</td>\n",
       "      <td>9846300.0</td>\n",
       "      <td>0.0</td>\n",
       "      <td>1.0</td>\n",
       "      <td>66.758347</td>\n",
       "      <td>67.074972</td>\n",
       "      <td>66.284045</td>\n",
       "      <td>66.466136</td>\n",
       "      <td>68924100.0</td>\n",
       "    </tr>\n",
       "    <tr>\n",
       "      <td>2013-11-30</td>\n",
       "      <td>549.48</td>\n",
       "      <td>558.33</td>\n",
       "      <td>547.810</td>\n",
       "      <td>556.070</td>\n",
       "      <td>11361700.0</td>\n",
       "      <td>0.0</td>\n",
       "      <td>1.0</td>\n",
       "      <td>70.280291</td>\n",
       "      <td>71.412235</td>\n",
       "      <td>70.066693</td>\n",
       "      <td>71.123174</td>\n",
       "      <td>79531900.0</td>\n",
       "    </tr>\n",
       "    <tr>\n",
       "      <td>2013-12-31</td>\n",
       "      <td>554.17</td>\n",
       "      <td>561.28</td>\n",
       "      <td>554.000</td>\n",
       "      <td>561.020</td>\n",
       "      <td>7967300.0</td>\n",
       "      <td>0.0</td>\n",
       "      <td>1.0</td>\n",
       "      <td>70.880157</td>\n",
       "      <td>71.789550</td>\n",
       "      <td>70.858414</td>\n",
       "      <td>71.756295</td>\n",
       "      <td>55771100.0</td>\n",
       "    </tr>\n",
       "    <tr>\n",
       "      <td>2014-01-31</td>\n",
       "      <td>495.18</td>\n",
       "      <td>501.53</td>\n",
       "      <td>493.550</td>\n",
       "      <td>500.600</td>\n",
       "      <td>16599900.0</td>\n",
       "      <td>0.0</td>\n",
       "      <td>1.0</td>\n",
       "      <td>63.335143</td>\n",
       "      <td>64.147329</td>\n",
       "      <td>63.126661</td>\n",
       "      <td>64.028379</td>\n",
       "      <td>116199300.0</td>\n",
       "    </tr>\n",
       "  </tbody>\n",
       "</table>\n",
       "</div>"
      ],
      "text/plain": [
       "              Open    High      Low    Close      Volume  Dividend  Split  \\\n",
       "Date                                                                        \n",
       "2013-09-30  477.25  481.66  474.411  476.750   9291300.0       0.0    1.0   \n",
       "2013-10-31  525.00  527.49  521.270  522.702   9846300.0       0.0    1.0   \n",
       "2013-11-30  549.48  558.33  547.810  556.070  11361700.0       0.0    1.0   \n",
       "2013-12-31  554.17  561.28  554.000  561.020   7967300.0       0.0    1.0   \n",
       "2014-01-31  495.18  501.53  493.550  500.600  16599900.0       0.0    1.0   \n",
       "\n",
       "             Adj_Open   Adj_High    Adj_Low  Adj_Close   Adj_Volume  \n",
       "Date                                                                 \n",
       "2013-09-30  60.686516  61.247287  60.325513  60.622937   65039100.0  \n",
       "2013-10-31  66.758347  67.074972  66.284045  66.466136   68924100.0  \n",
       "2013-11-30  70.280291  71.412235  70.066693  71.123174   79531900.0  \n",
       "2013-12-31  70.880157  71.789550  70.858414  71.756295   55771100.0  \n",
       "2014-01-31  63.335143  64.147329  63.126661  64.028379  116199300.0  "
      ]
     },
     "execution_count": 155,
     "metadata": {},
     "output_type": "execute_result"
    }
   ],
   "source": [
    "aapl.head()"
   ]
  },
  {
   "cell_type": "code",
   "execution_count": 1,
   "metadata": {},
   "outputs": [],
   "source": [
    "import pandas as pd\n",
    "import numpy as np\n",
    "import matplotlib.pyplot as plt\n",
    "\n",
    "# Import Statsmodels\n",
    "from statsmodels.tsa.api import VAR\n",
    "from statsmodels.tsa.stattools import adfuller\n",
    "from statsmodels.tools.eval_measures import rmse, aic"
   ]
  },
  {
   "cell_type": "code",
   "execution_count": null,
   "metadata": {},
   "outputs": [],
   "source": [
    "https://www.statsmodels.org/stable/examples/index.html\n",
    "    "
   ]
  }
 ],
 "metadata": {
  "kernelspec": {
   "display_name": "Python 3",
   "language": "python",
   "name": "python3"
  },
  "language_info": {
   "codemirror_mode": {
    "name": "ipython",
    "version": 3
   },
   "file_extension": ".py",
   "mimetype": "text/x-python",
   "name": "python",
   "nbconvert_exporter": "python",
   "pygments_lexer": "ipython3",
   "version": "3.7.4"
  }
 },
 "nbformat": 4,
 "nbformat_minor": 4
}
