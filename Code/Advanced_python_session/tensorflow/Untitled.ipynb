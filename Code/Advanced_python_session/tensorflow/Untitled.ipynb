{
 "cells": [
  {
   "cell_type": "code",
   "execution_count": null,
   "metadata": {},
   "outputs": [],
   "source": [
    "#!pip install tensorflow\n",
    "#!pip install git+https://github.com/twolodzko/tfmf.git"
   ]
  },
  {
   "cell_type": "code",
   "execution_count": 1,
   "metadata": {},
   "outputs": [
    {
     "name": "stdout",
     "output_type": "stream",
     "text": [
      "WARNING:tensorflow:From /home/db/bin/anaconda3/lib/python3.7/site-packages/tensorflow/python/compat/v2_compat.py:96: disable_resource_variables (from tensorflow.python.ops.variable_scope) is deprecated and will be removed in a future version.\n",
      "Instructions for updating:\n",
      "non-resource variables are not supported in the long term\n"
     ]
    }
   ],
   "source": [
    "import numpy as np\n",
    "from tfmf import MatrixFactorizer, sparse_matrix\n",
    "\n",
    "from scipy.sparse import coo_matrix\n",
    "\n",
    "user_id = [0,0,1,1,2,2]\n",
    "movie_id = [0,1,2,0,1,2]\n",
    "rating = [1,1,2,2,3,3]\n",
    "X = sparse_matrix(user_id, movie_id, rating)"
   ]
  },
  {
   "cell_type": "code",
   "execution_count": null,
   "metadata": {},
   "outputs": [],
   "source": [
    "import tensorflow as tf\n",
    "dir(tf)"
   ]
  },
  {
   "cell_type": "code",
   "execution_count": 8,
   "metadata": {},
   "outputs": [
    {
     "name": "stdout",
     "output_type": "stream",
     "text": [
      "[[1 1 0]\n",
      " [2 0 2]\n",
      " [0 3 3]]\n"
     ]
    }
   ],
   "source": [
    "print(X.todense())"
   ]
  },
  {
   "cell_type": "code",
   "execution_count": 28,
   "metadata": {},
   "outputs": [],
   "source": [
    "np.random.seed(0)\n",
    "m = 1000\n",
    "n = 10\n",
    "k = 2\n",
    "A = np.random.rand(m, k).dot(np.random.rand(k, n))\n",
    "tmp = np.random.choice(range(m*n), int(0.2*m*n),replace=False)\n",
    "Anew = A.copy()\n",
    "Anew[tmp//n, tmp % n] = np.nan\n",
    "Anew = np.nan_to_num(Anew)\n",
    "\n",
    "\n",
    "Anew = coo_matrix(Anew)\n",
    "Anew.eliminate_zeros()\n",
    "Anew = Anew.todok()"
   ]
  },
  {
   "cell_type": "code",
   "execution_count": 33,
   "metadata": {},
   "outputs": [
    {
     "name": "stderr",
     "output_type": "stream",
     "text": [
      "100%|██████████| 10000/10000 [00:12<00:00, 781.01it/s]\n"
     ]
    },
    {
     "data": {
      "text/plain": [
       "array([[0.70331466, 0.4293582 , 0.48507717, ..., 0.5790831 , 0.40193182,\n",
       "        0.788309  ],\n",
       "       [0.5972949 , 0.32333842, 0.37905738, ..., 0.47306326, 0.29591203,\n",
       "        0.68228924],\n",
       "       [0.627645  , 0.35368854, 0.4094075 , ..., 0.5034134 , 0.32626215,\n",
       "        0.71263933],\n",
       "       ...,\n",
       "       [0.61774415, 0.34378764, 0.3995066 , ..., 0.4935125 , 0.31636125,\n",
       "        0.7027384 ],\n",
       "       [0.83773416, 0.5637777 , 0.61949664, ..., 0.7135025 , 0.5363513 ,\n",
       "        0.9227285 ],\n",
       "       [0.6685742 , 0.3946176 , 0.450337  , ..., 0.54434234, 0.36719126,\n",
       "        0.75356865]], dtype=float32)"
      ]
     },
     "execution_count": 33,
     "metadata": {},
     "output_type": "execute_result"
    }
   ],
   "source": [
    "mf = MatrixFactorizer(n_components=k, batch_size=4, implicit=False, n_iter=10000)\n",
    "mf.fit(Anew)\n",
    "mf.predict_all().A"
   ]
  },
  {
   "cell_type": "code",
   "execution_count": 29,
   "metadata": {},
   "outputs": [
    {
     "data": {
      "text/plain": [
       "matrix([[0.75062907, 0.45303022, 0.38123174, ..., 0.61252311, 0.42714198,\n",
       "         0.87543909],\n",
       "        [0.72172039, 0.43305422, 0.38704418, ..., 0.4979935 , 0.        ,\n",
       "         0.74397234],\n",
       "        [0.61948391, 0.37486546, 0.30663518, ..., 0.        , 0.37427668,\n",
       "         0.76059775],\n",
       "        ...,\n",
       "        [0.67405921, 0.40945763, 0.32094634, ..., 0.64498412, 0.        ,\n",
       "         0.        ],\n",
       "        [0.79018497, 0.47207222, 0.44047979, ..., 0.47104661, 0.34299842,\n",
       "         0.73480292],\n",
       "        [0.73667412, 0.44106338, 0.        , ..., 0.473659  , 0.34095427,\n",
       "         0.72213886]])"
      ]
     },
     "execution_count": 29,
     "metadata": {},
     "output_type": "execute_result"
    }
   ],
   "source": [
    "Anew.todense()"
   ]
  },
  {
   "cell_type": "code",
   "execution_count": 34,
   "metadata": {},
   "outputs": [
    {
     "data": {
      "text/plain": [
       "array([[0.75062907, 0.45303022, 0.38123174, ..., 0.61252311, 0.42714198,\n",
       "        0.87543909],\n",
       "       [0.72172039, 0.43305422, 0.38704418, ..., 0.4979935 , 0.35487173,\n",
       "        0.74397234],\n",
       "       [0.61948391, 0.37486546, 0.30663518, ..., 0.54096121, 0.37427668,\n",
       "        0.76059775],\n",
       "       ...,\n",
       "       [0.67405921, 0.40945763, 0.32094634, ..., 0.64498412, 0.44184741,\n",
       "        0.88819207],\n",
       "       [0.79018497, 0.47207222, 0.44047979, ..., 0.47104661, 0.34299842,\n",
       "        0.73480292],\n",
       "       [0.73667412, 0.44106338, 0.40287309, ..., 0.473659  , 0.34095427,\n",
       "        0.72213886]])"
      ]
     },
     "execution_count": 34,
     "metadata": {},
     "output_type": "execute_result"
    }
   ],
   "source": [
    "A"
   ]
  },
  {
   "cell_type": "code",
   "execution_count": null,
   "metadata": {},
   "outputs": [],
   "source": []
  }
 ],
 "metadata": {
  "kernelspec": {
   "display_name": "Python 3",
   "language": "python",
   "name": "python3"
  },
  "language_info": {
   "codemirror_mode": {
    "name": "ipython",
    "version": 3
   },
   "file_extension": ".py",
   "mimetype": "text/x-python",
   "name": "python",
   "nbconvert_exporter": "python",
   "pygments_lexer": "ipython3",
   "version": "3.7.4"
  }
 },
 "nbformat": 4,
 "nbformat_minor": 4
}
