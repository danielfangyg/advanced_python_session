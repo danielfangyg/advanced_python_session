{
 "cells": [
  {
   "cell_type": "code",
   "execution_count": 1,
   "metadata": {},
   "outputs": [
    {
     "name": "stdout",
     "output_type": "stream",
     "text": [
      "Creating ChildA object....\n",
      "Base created\n",
      "ChildA init'ed\n",
      "Creating ChildB object....\n",
      "Base created\n",
      "ChildB init'ed\n"
     ]
    },
    {
     "data": {
      "text/plain": [
       "<__main__.ChildB at 0x7f9e604883d0>"
      ]
     },
     "execution_count": 1,
     "metadata": {},
     "output_type": "execute_result"
    }
   ],
   "source": [
    "class Base(object):\n",
    "    def __init__(self):\n",
    "        print (\"Base created\")\n",
    "\n",
    "class ChildA(Base):\n",
    "    def __init__(self):\n",
    "        Base.__init__(self)\n",
    "        print(\"ChildA init'ed\")\n",
    "\n",
    "class ChildB(Base):\n",
    "    def __init__(self):\n",
    "        super().__init__()\n",
    "        print(\"ChildB init'ed\")\n",
    "\n",
    "print('Creating ChildA object....')\n",
    "ChildA() \n",
    "print('Creating ChildB object....')\n",
    "ChildB()"
   ]
  },
  {
   "cell_type": "code",
   "execution_count": 2,
   "metadata": {},
   "outputs": [
    {
     "name": "stdout",
     "output_type": "stream",
     "text": [
      "Creating UserA object....\n",
      "UserA init'ed\n",
      "Base created\n",
      "ChildA init'ed\n",
      "Creating UserB object....\n",
      "UserB init'ed\n",
      "UserDependency init'ed\n",
      "Base created\n",
      "ChildB init'ed\n"
     ]
    },
    {
     "data": {
      "text/plain": [
       "<__main__.UserB at 0x7f9e60498150>"
      ]
     },
     "execution_count": 2,
     "metadata": {},
     "output_type": "execute_result"
    }
   ],
   "source": [
    "class UserDependency(Base):\n",
    "    def __init__(self):\n",
    "        print(\"UserDependency init'ed\")\n",
    "        super().__init__()\n",
    "\n",
    "class UserA(ChildA, UserDependency):\n",
    "    def __init__(self):\n",
    "        print(\"UserA init'ed\")\n",
    "        super().__init__()\n",
    "\n",
    "class UserB(ChildB, UserDependency):\n",
    "    def __init__(self):\n",
    "        print(\"UserB init'ed\")\n",
    "        super().__init__()\n",
    "        \n",
    "print('Creating UserA object....')\n",
    "UserA() \n",
    "print('Creating UserB object....')\n",
    "UserB()        "
   ]
  },
  {
   "cell_type": "code",
   "execution_count": null,
   "metadata": {},
   "outputs": [],
   "source": []
  },
  {
   "cell_type": "code",
   "execution_count": null,
   "metadata": {},
   "outputs": [],
   "source": []
  }
 ],
 "metadata": {
  "kernelspec": {
   "display_name": "Python 3",
   "language": "python",
   "name": "python3"
  },
  "language_info": {
   "codemirror_mode": {
    "name": "ipython",
    "version": 3
   },
   "file_extension": ".py",
   "mimetype": "text/x-python",
   "name": "python",
   "nbconvert_exporter": "python",
   "pygments_lexer": "ipython3",
   "version": "3.7.4"
  }
 },
 "nbformat": 4,
 "nbformat_minor": 4
}
