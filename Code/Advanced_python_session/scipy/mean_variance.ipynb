{
 "cells": [
  {
   "cell_type": "markdown",
   "metadata": {},
   "source": [
    "# Mean Variance Optimization\n",
    "\n",
    "## Utility function\n",
    "the Utility function is defined as\n",
    "\n",
    "$U(h) = h^T\\cdot \\alpha -\\lambda (h^T\\cdot \\Omega \\cdot h) - \\gamma (k_0 + k_1 |h - h_0|^{0.5}) |h - h_0| $\n",
    "\n",
    "subject to:\n",
    "- $ A_{eq} \\cdot h = b_{eq} $\n",
    "- $ A_{ie} \\cdot h \\le b_{ie} $\n",
    "\n",
    "Where\n",
    "- Expected return = $ h^T\\cdot \\alpha $\n",
    "- Expected Risk = $ h^T\\cdot \\Omega \\cdot h $\n",
    "- Risk Aversion $ \\lambda $\n",
    "- Trading Cost Penalty $ (k_0 + k_1 |h - h_0|^{0.5}) |h - h_0| $, Using Loeb's model\n",
    "- Transaction cost amortization factor $ \\gamma $\n",
    "\n",
    "\n",
    "Optimal weights \n",
    "$h_{opt} = arg\\max_{h} U(h)$\n",
    "\n",
    "## Analytical Solution\n",
    "\n",
    "Analystcal solution is possible without transaction cost and without inequality constraint\n",
    "\n",
    "$\\nabla_h ( U(h) +\\theta 1^T_k \\cdot (A_{eq} \\cdot h - b_{eq}) ) = 0 $\n",
    "\n",
    "$\\theta \\ge 0$\n",
    "\n",
    "$\\implies \\alpha - 2\\lambda \\Omega \\cdot h +\\theta A_{eq}^T \\cdot 1_k= 0$\n",
    "\n",
    "$\\implies h_{opt} = \\frac{1}{2\\lambda} \\Omega^{-1} (\\alpha + \\theta A_{eq}^T \\cdot 1_k ) $ and $ A_{eq} \\cdot h_{opt} = b_{eq} $\n",
    "\n",
    "eliminate $\\theta$ to get analytical solution for $h_{opt}$\n",
    "\n",
    "## Computation Solution\n",
    "\n",
    "There are two options\n",
    "\n",
    "- Use Scipy\n",
    "- Use CVXopt\n",
    "\n",
    "\n"
   ]
  },
  {
   "cell_type": "code",
   "execution_count": 1,
   "metadata": {},
   "outputs": [],
   "source": [
    "# from portopt import QPPortOpt\n",
    "# https://docs.scipy.org/doc/scipy/reference/generated/scipy.optimize.minimize.html#scipy.optimize.minimize\n",
    "import scipy.optimize as opt\n",
    "import numpy as np\n",
    "import logging\n",
    "\n",
    "\n",
    "class PortOpt:\n",
    "    def __init__(self, alp, cov, risk_aversion, h_init, tc_param):\n",
    "        self._alpha         = alp\n",
    "        self._V             = cov\n",
    "        self._risk_aversion = risk_aversion\n",
    "        self._n_asset       = self._alpha.shape[1]        \n",
    "        self._tc_param      = tc_param\n",
    "        self._constraints   = []\n",
    "        self._debug         = False\n",
    "        self._asset_bounds  = {'min':[-np.inf for _ in range(self._n_asset)],\n",
    "                               'max':[np.inf for _ in range(self._n_asset)]}\n",
    "        self._message       = \"Not Set\"\n",
    "        self._success       = False\n",
    "        self._logger        = logging.getLogger('PortOpt')\n",
    "        if h_init is not None:\n",
    "            self._h_init = h_init\n",
    "   \n",
    "    def addConstraint(self, A, b, constraint_type='eq'):\n",
    "        self._constraints.append({'type':constraint_type, 'A':A, 'b':b})\n",
    "        \n",
    "    def setBounds(self, h_bnd, bnd_type='min'):\n",
    "        self._asset_bounds[bnd_type]= h_bnd\n",
    "        \n",
    "    def setDebugMode(self):\n",
    "        \"\"\"Check inputs are OK\"\"\"\n",
    "        self._debug = True\n",
    "        self._logger.setLevel(logging.DEBUG)\n",
    "        \n",
    "\n",
    "class QPPortOpt(PortOpt):\n",
    "    \"\"\"Mean Variance Optimization\"\"\"\n",
    "\n",
    "    \n",
    "    def __init__(self, alp, cov, risk_aversion=1, h_init=None, tc_param=None):\n",
    "        self._method = 'SLSQP'\n",
    "        super().__init__(alp, cov, risk_aversion, h_init, tc_param)\n",
    "        \n",
    "\n",
    "    \n",
    "    def _utility(self, h):\n",
    "        _h        = h.reshape(1,-1)\n",
    "        _mean     = np.dot(self._alpha, np.transpose(_h))\n",
    "        _variance = np.dot(np.dot(_h, self._V), np.transpose(_h))\n",
    "        _dh       = abs(_h - self._h_init)\n",
    "        if self._tc_param is not None:\n",
    "            _tcost    = self._tc_param['tcaf']*np.dot( (self._tc_param['k0'] + self._tc_param['k1'] * np.power(_dh, 0.5)), np.transpose(_dh))\n",
    "        else:\n",
    "            _tcost    = 0\n",
    "        _util     = _mean.item() - self._risk_aversion * _variance.item() - _tcost.item()\n",
    "        return -1 * _util\n",
    "\n",
    "    def optimize(self):\n",
    "        _constr = [{'type': c['type'],\n",
    "                    'fun': lambda h: (c['b'] - np.dot(c['A'], \n",
    "                                    np.transpose(h.reshape(1,-1)))).item()} for c in self._constraints]\n",
    "        _bnds   = opt.Bounds(self._asset_bounds['min'], self._asset_bounds['max'])\n",
    "\n",
    "        _out = opt.minimize(self._utility, self._h_init, \n",
    "                           method      = self._method,\n",
    "                           bounds      = _bnds,\n",
    "                           constraints = _constr,\n",
    "                           options     = {'ftol': 1e-12, 'disp': self._debug})\n",
    "        self._message = _out.message\n",
    "        self._success = _out.success\n",
    "        if (self._success):\n",
    "            self._h_opt = _out.x\n",
    "        else:\n",
    "            self._h_opt = h_init\n",
    "            self._logger.error(self._message)\n",
    "        return self._h_opt\n",
    "    \n",
    "    def getRiskRet(self):\n",
    "        _h        = self._h_opt.reshape(1,-1)\n",
    "        _mean     = np.dot(self._alpha, np.transpose(_h))\n",
    "        _variance = np.dot(np.dot(_h, self._V), np.transpose(_h))\n",
    "        return (_mean[0][0], np.sqrt(_variance).item())\n",
    "            "
   ]
  },
  {
   "cell_type": "code",
   "execution_count": 2,
   "metadata": {},
   "outputs": [],
   "source": [
    "alp = np.array([[1.1, 3.2, 2.1, 3.2]])\n",
    "cov = np.matrix([[1, 0, 0, 0],[0, 1, 0, 0],[0, 0, 1, 0],[0, 0, 0, 1]])\n",
    "h0  = np.array([0.25, 0.25, 0.25, 0.25])\n",
    "risk_aversion = 0.001\n",
    "tc = dict()\n",
    "tc['tcaf'] = 0.00001\n",
    "tc['k0']   = 0.05\n",
    "tc['k1']   = np.array([[0.1, 0.1, 0.1, 0.1]])\n",
    "mvo   = QPPortOpt(alp, cov, risk_aversion, h0, tc)\n",
    "\n",
    "\n",
    "# add a sum to 100% constraint\n",
    "Aeq = np.array([[1.0, 1.0, 1.0, 1.0]])\n",
    "beq = np.array([[1.0]])\n",
    "mvo.addConstraint(Aeq, beq, constraint_type='eq')\n",
    "\n",
    "\n",
    "# add no shorting constraint\n",
    "h_min = [0.0, 0.0, 0.0, 0.0]\n",
    "mvo.setBounds(h_min, bnd_type='min')\n",
    "h_opt =  mvo.optimize()"
   ]
  },
  {
   "cell_type": "code",
   "execution_count": 3,
   "metadata": {},
   "outputs": [
    {
     "data": {
      "text/plain": [
       "'Optimization terminated successfully.'"
      ]
     },
     "execution_count": 3,
     "metadata": {},
     "output_type": "execute_result"
    }
   ],
   "source": [
    "mvo._message"
   ]
  },
  {
   "cell_type": "code",
   "execution_count": 4,
   "metadata": {},
   "outputs": [
    {
     "data": {
      "text/plain": [
       "array([9.71445147e-16, 5.00000000e-01, 0.00000000e+00, 5.00000000e-01])"
      ]
     },
     "execution_count": 4,
     "metadata": {},
     "output_type": "execute_result"
    }
   ],
   "source": [
    "h_opt"
   ]
  },
  {
   "cell_type": "code",
   "execution_count": 5,
   "metadata": {},
   "outputs": [
    {
     "data": {
      "text/plain": [
       "1.0000000000000004"
      ]
     },
     "execution_count": 5,
     "metadata": {},
     "output_type": "execute_result"
    }
   ],
   "source": [
    "h_opt.sum(0)"
   ]
  },
  {
   "cell_type": "code",
   "execution_count": 6,
   "metadata": {},
   "outputs": [
    {
     "data": {
      "text/plain": [
       "(3.1999999999999993, 0.707106781186547)"
      ]
     },
     "execution_count": 6,
     "metadata": {},
     "output_type": "execute_result"
    }
   ],
   "source": [
    "mvo.getRiskRet()"
   ]
  },
  {
   "cell_type": "code",
   "execution_count": 8,
   "metadata": {},
   "outputs": [
    {
     "data": {
      "image/png": "[encoded data removed]",
      "text/plain": [
       "<Figure size 432x288 with 1 Axes>"
      ]
     },
     "metadata": {
      "needs_background": "light"
     },
     "output_type": "display_data"
    }
   ],
   "source": [
    "sig =[]\n",
    "er = []\n",
    "for risk_aversion in np.logspace(np.log(0.5), np.log(20), num=40):\n",
    "    mvo._risk_aversion = risk_aversion\n",
    "    h_opt =  mvo.optimize()\n",
    "    ret, risk = mvo.getRiskRet()\n",
    "    sig.append(risk)\n",
    "    er.append(ret)\n",
    "import matplotlib.pyplot as plt\n",
    "plt.plot(sig, er)\n",
    "plt.show();"
   ]
  },
  {
   "cell_type": "markdown",
   "metadata": {},
   "source": [
    "## Mutual Fund separation theorem\n",
    "\n",
    "Any portfolio on the efficient frontier is composed of two funds\n",
    "- The minimum variance portfolio\n",
    "- Any other portfolio on the efficient frontier\n",
    "\n",
    "the Minimum variance portfolio:\n",
    "\n",
    "$ h_0 = \\frac{\\Omega^{-1}\\mathbf{1}}{\\mathbf{1}^T\\Omega^{-1}\\mathbf{1}} $\n",
    "\n",
    "the efficient portfolio:\n",
    "\n",
    "$ h = \\frac{\\Omega^{-1}\\alpha}{\\mathbf{1}^T\\Omega^{-1}\\alpha} $\n",
    "\n",
    "any portfolio\n",
    "\n",
    "$ h_{opt} = \\theta h_0 + (1-\\theta) h $"
   ]
  },
  {
   "cell_type": "code",
   "execution_count": 9,
   "metadata": {},
   "outputs": [
    {
     "data": {
      "image/png": "[encoded data removed]",
      "text/plain": [
       "<Figure size 864x432 with 1 Axes>"
      ]
     },
     "metadata": {
      "needs_background": "light"
     },
     "output_type": "display_data"
    }
   ],
   "source": [
    "h0 = np.array([0.25, 0.25, 0.25, 0.25])\n",
    "h = alp/alp.sum()\n",
    "\n",
    "sig2 =[]\n",
    "er2 = []\n",
    "for theta in np.linspace(-1, 1, num = 5):\n",
    "    h_opt = theta * h0 + (1- theta) * h\n",
    "    h_opt = h_opt.reshape(1,-1)\n",
    "    er2.append(np.dot(alp, np.transpose(h_opt)))\n",
    "    vari = np.dot(np.dot(h_opt, cov), np.transpose(h_opt))\n",
    "    sig2.append(np.sqrt(vari.item()))\n",
    "\n",
    "fig, ax = plt.subplots(1,1, figsize=(12,6))\n",
    "ax.plot(sig, er)\n",
    "ax.scatter(sig2, er2, c='red')\n",
    "\n",
    "plt.show()\n",
    "    \n",
    "    "
   ]
  },
  {
   "cell_type": "code",
   "execution_count": 103,
   "metadata": {},
   "outputs": [],
   "source": [
    "from cvxpy import Variable, Problem, Maximize, norm, SCS, Parameter, sqrt , multiply\n",
    "from cvxpy.atoms import quad_form\n",
    "class CVXPortOpt(PortOpt):\n",
    "    def __init__(self, alp, cov, risk_aversion, h_init, tc_param):\n",
    "        super().__init__(alp, cov, risk_aversion, h_init, tc_param)       \n",
    "        self._h_opt = Variable((1,self._n_asset))\n",
    "        \n",
    "    def optimize(self):\n",
    "        _constr = []\n",
    "        for c in self._constraints:\n",
    "            if c['type'] == 'eq':\n",
    "                _constr.append(c['A']*self._h_opt.T == c['b'])\n",
    "            elif c['type'] == 'ineq':\n",
    "                _constr.append(c['A']*self._h_opt.T <= c['b'])\n",
    "        if self._asset_bounds is not None:\n",
    "            if 'max' in self._asset_bounds.keys():\n",
    "                _constr.append(self._h_opt <= np.array(self._asset_bounds['max']).reshape(1,-1))\n",
    "            if 'min' in self._asset_bounds.keys():\n",
    "                _constr.append(np.array(self._asset_bounds['min']).reshape(1,-1) <= self._h_opt)            \n",
    "                \n",
    "        _ret = self._h_opt * self._alpha.T\n",
    "        _risk = quad_form(self._h_opt.T, self._V)\n",
    "#         _tc = None\n",
    "#         if (self._tc_param is not None) and (self._h_init is not None):\n",
    "#             if (self._tc_param['tcaf'] != 0):\n",
    "#                 _dh = self._h_opt - self._h_init.reshape(1,-1)\n",
    "#                 _tc   = self._tc_param['tcaf'] * (self._tc_param['k0'] + multiply(self._tc_param['k1'],sqrt(_dh) )) * _dh.T\n",
    "#         if (_tc is None) and ('ineq' not in self.__constraints.keys()) and (self._asset_bounds is None):\n",
    "#             return  AnalPortOpt(self._alpha, self._V, self._risk_aversion, None, None, self._constraints['A'], self._constraints['b']).optimize()                \n",
    "#         else:\n",
    "        print(_constr)\n",
    "        _prob = Problem(Maximize(_ret - self._risk_aversion * _risk ), _constr)\n",
    "        print(_prob)\n",
    "#         try:\n",
    "        _prob.solve(qcp=True, solver=SCS)\n",
    "        return self._h_opt\n",
    "#         except Exception as err:\n",
    "#             print(err)\n",
    "#             if self._debug:\n",
    "#                 print(e)\n",
    "#             _p = QPPortOpt(alp, cov, risk_aversion, self._h_init, tc_param)\n",
    "#             for c in self._constraints:\n",
    "#                 if c['type'] == 'eq':\n",
    "#                     for row in range(c['A'].shape[0]):\n",
    "#                         _p.addConstraint({'type':'eq', 'A':c['A'][row], 'b':c['b'][row]})\n",
    "#                 elif c['type'] == 'ineq':\n",
    "#                     for row in range(c['A'].shape[0]):\n",
    "#                         _p.addConstraint({'type':'ineq', 'A':c['A'][row], 'b':c['b'][row]})\n",
    "#             _p.setBounds()\n",
    "#             return _p.optimize()\n"
   ]
  },
  {
   "cell_type": "code",
   "execution_count": 104,
   "metadata": {},
   "outputs": [
    {
     "name": "stdout",
     "output_type": "stream",
     "text": [
      "[Equality(Expression(AFFINE, UNKNOWN, (1, 1)), Constant(CONSTANT, NONNEGATIVE, (1, 1))), Inequality(Variable((1, 4))), Inequality(Constant(CONSTANT, ZERO, (1, 4)))]\n",
      "maximize var966 * [[1.1]\n",
      " [3.2]\n",
      " [2.1]\n",
      " [3.2]] + -990.2213219677761 * QuadForm(var966.T, [[1. 0. 0. 0.]\n",
      " [0. 1. 0. 0.]\n",
      " [0. 0. 1. 0.]\n",
      " [0. 0. 0. 1.]])\n",
      "subject to [[1. 1. 1. 1.]] * var966.T == [[1.]]\n",
      "           var966 <= [[inf inf inf inf]]\n",
      "           [[0. 0. 0. 0.]] <= var966\n"
     ]
    }
   ],
   "source": [
    "\n",
    "mvo   = CVXPortOpt(alp, cov, risk_aversion, h0, None)\n",
    "\n",
    "\n",
    "# add a sum to 100% constraint\n",
    "Aeq = np.array([[1.0, 1.0, 1.0, 1.0]])\n",
    "beq = np.array([[1.0]])\n",
    "mvo.addConstraint(Aeq, beq, constraint_type='eq')\n",
    "\n",
    "\n",
    "# add no shorting constraint\n",
    "h_min = [0.0, 0.0, 0.0, 0.0]\n",
    "mvo.setBounds(h_min, bnd_type='min')\n",
    "h_opt =  mvo.optimize()"
   ]
  },
  {
   "cell_type": "code",
   "execution_count": 100,
   "metadata": {},
   "outputs": [],
   "source": [
    "h_opt.value"
   ]
  },
  {
   "cell_type": "code",
   "execution_count": null,
   "metadata": {},
   "outputs": [],
   "source": []
  }
 ],
 "metadata": {
  "kernelspec": {
   "display_name": "Python 3",
   "language": "python",
   "name": "python3"
  },
  "language_info": {
   "codemirror_mode": {
    "name": "ipython",
    "version": 3
   },
   "file_extension": ".py",
   "mimetype": "text/x-python",
   "name": "python",
   "nbconvert_exporter": "python",
   "pygments_lexer": "ipython3",
   "version": "3.7.4"
  }
 },
 "nbformat": 4,
 "nbformat_minor": 4
}
